{
 "cells": [
  {
   "cell_type": "code",
   "execution_count": 1,
   "metadata": {
    "collapsed": true
   },
   "outputs": [],
   "source": [
    "import pandas as pd\n",
    "import numpy as np\n",
    "import seaborn as sns\n",
    "import matplotlib.pyplot as plt\n",
    "%matplotlib inline"
   ]
  },
  {
   "cell_type": "code",
   "execution_count": 11,
   "metadata": {
    "collapsed": true
   },
   "outputs": [],
   "source": [
    "b_train = pd.read_csv('F:/DATA SCIENCE/INTERNSHALA/UPGRAD/bank-additional/Bank.csv')"
   ]
  },
  {
   "cell_type": "code",
   "execution_count": 12,
   "metadata": {},
   "outputs": [
    {
     "data": {
      "text/html": [
       "<div>\n",
       "<style>\n",
       "    .dataframe thead tr:only-child th {\n",
       "        text-align: right;\n",
       "    }\n",
       "\n",
       "    .dataframe thead th {\n",
       "        text-align: left;\n",
       "    }\n",
       "\n",
       "    .dataframe tbody tr th {\n",
       "        vertical-align: top;\n",
       "    }\n",
       "</style>\n",
       "<table border=\"1\" class=\"dataframe\">\n",
       "  <thead>\n",
       "    <tr style=\"text-align: right;\">\n",
       "      <th></th>\n",
       "      <th>age</th>\n",
       "      <th>job</th>\n",
       "      <th>marital</th>\n",
       "      <th>education</th>\n",
       "      <th>default</th>\n",
       "      <th>housing</th>\n",
       "      <th>loan</th>\n",
       "      <th>contact</th>\n",
       "      <th>month</th>\n",
       "      <th>day_of_week</th>\n",
       "      <th>...</th>\n",
       "      <th>campaign</th>\n",
       "      <th>pdays</th>\n",
       "      <th>previous</th>\n",
       "      <th>poutcome</th>\n",
       "      <th>emp.var.rate</th>\n",
       "      <th>cons.price.idx</th>\n",
       "      <th>cons.conf.idx</th>\n",
       "      <th>euribor3m</th>\n",
       "      <th>nr.employed</th>\n",
       "      <th>y</th>\n",
       "    </tr>\n",
       "  </thead>\n",
       "  <tbody>\n",
       "    <tr>\n",
       "      <th>0</th>\n",
       "      <td>56</td>\n",
       "      <td>housemaid</td>\n",
       "      <td>married</td>\n",
       "      <td>basic.4y</td>\n",
       "      <td>no</td>\n",
       "      <td>no</td>\n",
       "      <td>no</td>\n",
       "      <td>telephone</td>\n",
       "      <td>may</td>\n",
       "      <td>mon</td>\n",
       "      <td>...</td>\n",
       "      <td>1</td>\n",
       "      <td>999</td>\n",
       "      <td>0</td>\n",
       "      <td>nonexistent</td>\n",
       "      <td>1.1</td>\n",
       "      <td>93.994</td>\n",
       "      <td>-36.4</td>\n",
       "      <td>4.857</td>\n",
       "      <td>5191.0</td>\n",
       "      <td>no</td>\n",
       "    </tr>\n",
       "    <tr>\n",
       "      <th>1</th>\n",
       "      <td>57</td>\n",
       "      <td>services</td>\n",
       "      <td>married</td>\n",
       "      <td>high.school</td>\n",
       "      <td>unknown</td>\n",
       "      <td>no</td>\n",
       "      <td>no</td>\n",
       "      <td>telephone</td>\n",
       "      <td>may</td>\n",
       "      <td>mon</td>\n",
       "      <td>...</td>\n",
       "      <td>1</td>\n",
       "      <td>999</td>\n",
       "      <td>0</td>\n",
       "      <td>nonexistent</td>\n",
       "      <td>1.1</td>\n",
       "      <td>93.994</td>\n",
       "      <td>-36.4</td>\n",
       "      <td>4.857</td>\n",
       "      <td>5191.0</td>\n",
       "      <td>no</td>\n",
       "    </tr>\n",
       "    <tr>\n",
       "      <th>2</th>\n",
       "      <td>37</td>\n",
       "      <td>services</td>\n",
       "      <td>married</td>\n",
       "      <td>high.school</td>\n",
       "      <td>no</td>\n",
       "      <td>yes</td>\n",
       "      <td>no</td>\n",
       "      <td>telephone</td>\n",
       "      <td>may</td>\n",
       "      <td>mon</td>\n",
       "      <td>...</td>\n",
       "      <td>1</td>\n",
       "      <td>999</td>\n",
       "      <td>0</td>\n",
       "      <td>nonexistent</td>\n",
       "      <td>1.1</td>\n",
       "      <td>93.994</td>\n",
       "      <td>-36.4</td>\n",
       "      <td>4.857</td>\n",
       "      <td>5191.0</td>\n",
       "      <td>no</td>\n",
       "    </tr>\n",
       "    <tr>\n",
       "      <th>3</th>\n",
       "      <td>40</td>\n",
       "      <td>admin.</td>\n",
       "      <td>married</td>\n",
       "      <td>basic.6y</td>\n",
       "      <td>no</td>\n",
       "      <td>no</td>\n",
       "      <td>no</td>\n",
       "      <td>telephone</td>\n",
       "      <td>may</td>\n",
       "      <td>mon</td>\n",
       "      <td>...</td>\n",
       "      <td>1</td>\n",
       "      <td>999</td>\n",
       "      <td>0</td>\n",
       "      <td>nonexistent</td>\n",
       "      <td>1.1</td>\n",
       "      <td>93.994</td>\n",
       "      <td>-36.4</td>\n",
       "      <td>4.857</td>\n",
       "      <td>5191.0</td>\n",
       "      <td>no</td>\n",
       "    </tr>\n",
       "    <tr>\n",
       "      <th>4</th>\n",
       "      <td>56</td>\n",
       "      <td>services</td>\n",
       "      <td>married</td>\n",
       "      <td>high.school</td>\n",
       "      <td>no</td>\n",
       "      <td>no</td>\n",
       "      <td>yes</td>\n",
       "      <td>telephone</td>\n",
       "      <td>may</td>\n",
       "      <td>mon</td>\n",
       "      <td>...</td>\n",
       "      <td>1</td>\n",
       "      <td>999</td>\n",
       "      <td>0</td>\n",
       "      <td>nonexistent</td>\n",
       "      <td>1.1</td>\n",
       "      <td>93.994</td>\n",
       "      <td>-36.4</td>\n",
       "      <td>4.857</td>\n",
       "      <td>5191.0</td>\n",
       "      <td>no</td>\n",
       "    </tr>\n",
       "  </tbody>\n",
       "</table>\n",
       "<p>5 rows × 21 columns</p>\n",
       "</div>"
      ],
      "text/plain": [
       "   age        job  marital    education  default housing loan    contact  \\\n",
       "0   56  housemaid  married     basic.4y       no      no   no  telephone   \n",
       "1   57   services  married  high.school  unknown      no   no  telephone   \n",
       "2   37   services  married  high.school       no     yes   no  telephone   \n",
       "3   40     admin.  married     basic.6y       no      no   no  telephone   \n",
       "4   56   services  married  high.school       no      no  yes  telephone   \n",
       "\n",
       "  month day_of_week ...  campaign  pdays  previous     poutcome emp.var.rate  \\\n",
       "0   may         mon ...         1    999         0  nonexistent          1.1   \n",
       "1   may         mon ...         1    999         0  nonexistent          1.1   \n",
       "2   may         mon ...         1    999         0  nonexistent          1.1   \n",
       "3   may         mon ...         1    999         0  nonexistent          1.1   \n",
       "4   may         mon ...         1    999         0  nonexistent          1.1   \n",
       "\n",
       "   cons.price.idx  cons.conf.idx  euribor3m  nr.employed   y  \n",
       "0          93.994          -36.4      4.857       5191.0  no  \n",
       "1          93.994          -36.4      4.857       5191.0  no  \n",
       "2          93.994          -36.4      4.857       5191.0  no  \n",
       "3          93.994          -36.4      4.857       5191.0  no  \n",
       "4          93.994          -36.4      4.857       5191.0  no  \n",
       "\n",
       "[5 rows x 21 columns]"
      ]
     },
     "execution_count": 12,
     "metadata": {},
     "output_type": "execute_result"
    }
   ],
   "source": [
    "b_train.head()"
   ]
  },
  {
   "cell_type": "code",
   "execution_count": 13,
   "metadata": {},
   "outputs": [
    {
     "data": {
      "text/plain": [
       "(41188, 21)"
      ]
     },
     "execution_count": 13,
     "metadata": {},
     "output_type": "execute_result"
    }
   ],
   "source": [
    "b_train.shape"
   ]
  },
  {
   "cell_type": "code",
   "execution_count": 14,
   "metadata": {},
   "outputs": [
    {
     "data": {
      "text/plain": [
       "Index(['age', 'job', 'marital', 'education', 'default', 'housing', 'loan',\n",
       "       'contact', 'month', 'day_of_week', 'duration', 'campaign', 'pdays',\n",
       "       'previous', 'poutcome', 'emp.var.rate', 'cons.price.idx',\n",
       "       'cons.conf.idx', 'euribor3m', 'nr.employed', 'y'],\n",
       "      dtype='object')"
      ]
     },
     "execution_count": 14,
     "metadata": {},
     "output_type": "execute_result"
    }
   ],
   "source": [
    "b_train.columns"
   ]
  },
  {
   "cell_type": "code",
   "execution_count": 15,
   "metadata": {},
   "outputs": [
    {
     "data": {
      "text/html": [
       "<div>\n",
       "<style>\n",
       "    .dataframe thead tr:only-child th {\n",
       "        text-align: right;\n",
       "    }\n",
       "\n",
       "    .dataframe thead th {\n",
       "        text-align: left;\n",
       "    }\n",
       "\n",
       "    .dataframe tbody tr th {\n",
       "        vertical-align: top;\n",
       "    }\n",
       "</style>\n",
       "<table border=\"1\" class=\"dataframe\">\n",
       "  <thead>\n",
       "    <tr style=\"text-align: right;\">\n",
       "      <th></th>\n",
       "      <th>age</th>\n",
       "      <th>duration</th>\n",
       "      <th>campaign</th>\n",
       "      <th>pdays</th>\n",
       "      <th>previous</th>\n",
       "      <th>emp.var.rate</th>\n",
       "      <th>cons.price.idx</th>\n",
       "      <th>cons.conf.idx</th>\n",
       "      <th>euribor3m</th>\n",
       "      <th>nr.employed</th>\n",
       "    </tr>\n",
       "  </thead>\n",
       "  <tbody>\n",
       "    <tr>\n",
       "      <th>count</th>\n",
       "      <td>41188.00000</td>\n",
       "      <td>41188.000000</td>\n",
       "      <td>41188.000000</td>\n",
       "      <td>41188.000000</td>\n",
       "      <td>41188.000000</td>\n",
       "      <td>41188.000000</td>\n",
       "      <td>41188.000000</td>\n",
       "      <td>41188.000000</td>\n",
       "      <td>41188.000000</td>\n",
       "      <td>41188.000000</td>\n",
       "    </tr>\n",
       "    <tr>\n",
       "      <th>mean</th>\n",
       "      <td>40.02406</td>\n",
       "      <td>258.285010</td>\n",
       "      <td>2.567593</td>\n",
       "      <td>962.475454</td>\n",
       "      <td>0.172963</td>\n",
       "      <td>0.081886</td>\n",
       "      <td>93.575664</td>\n",
       "      <td>-40.502600</td>\n",
       "      <td>3.621291</td>\n",
       "      <td>5167.035911</td>\n",
       "    </tr>\n",
       "    <tr>\n",
       "      <th>std</th>\n",
       "      <td>10.42125</td>\n",
       "      <td>259.279249</td>\n",
       "      <td>2.770014</td>\n",
       "      <td>186.910907</td>\n",
       "      <td>0.494901</td>\n",
       "      <td>1.570960</td>\n",
       "      <td>0.578840</td>\n",
       "      <td>4.628198</td>\n",
       "      <td>1.734447</td>\n",
       "      <td>72.251528</td>\n",
       "    </tr>\n",
       "    <tr>\n",
       "      <th>min</th>\n",
       "      <td>17.00000</td>\n",
       "      <td>0.000000</td>\n",
       "      <td>1.000000</td>\n",
       "      <td>0.000000</td>\n",
       "      <td>0.000000</td>\n",
       "      <td>-3.400000</td>\n",
       "      <td>92.201000</td>\n",
       "      <td>-50.800000</td>\n",
       "      <td>0.634000</td>\n",
       "      <td>4963.600000</td>\n",
       "    </tr>\n",
       "    <tr>\n",
       "      <th>25%</th>\n",
       "      <td>32.00000</td>\n",
       "      <td>102.000000</td>\n",
       "      <td>1.000000</td>\n",
       "      <td>999.000000</td>\n",
       "      <td>0.000000</td>\n",
       "      <td>-1.800000</td>\n",
       "      <td>93.075000</td>\n",
       "      <td>-42.700000</td>\n",
       "      <td>1.344000</td>\n",
       "      <td>5099.100000</td>\n",
       "    </tr>\n",
       "    <tr>\n",
       "      <th>50%</th>\n",
       "      <td>38.00000</td>\n",
       "      <td>180.000000</td>\n",
       "      <td>2.000000</td>\n",
       "      <td>999.000000</td>\n",
       "      <td>0.000000</td>\n",
       "      <td>1.100000</td>\n",
       "      <td>93.749000</td>\n",
       "      <td>-41.800000</td>\n",
       "      <td>4.857000</td>\n",
       "      <td>5191.000000</td>\n",
       "    </tr>\n",
       "    <tr>\n",
       "      <th>75%</th>\n",
       "      <td>47.00000</td>\n",
       "      <td>319.000000</td>\n",
       "      <td>3.000000</td>\n",
       "      <td>999.000000</td>\n",
       "      <td>0.000000</td>\n",
       "      <td>1.400000</td>\n",
       "      <td>93.994000</td>\n",
       "      <td>-36.400000</td>\n",
       "      <td>4.961000</td>\n",
       "      <td>5228.100000</td>\n",
       "    </tr>\n",
       "    <tr>\n",
       "      <th>max</th>\n",
       "      <td>98.00000</td>\n",
       "      <td>4918.000000</td>\n",
       "      <td>56.000000</td>\n",
       "      <td>999.000000</td>\n",
       "      <td>7.000000</td>\n",
       "      <td>1.400000</td>\n",
       "      <td>94.767000</td>\n",
       "      <td>-26.900000</td>\n",
       "      <td>5.045000</td>\n",
       "      <td>5228.100000</td>\n",
       "    </tr>\n",
       "  </tbody>\n",
       "</table>\n",
       "</div>"
      ],
      "text/plain": [
       "               age      duration      campaign         pdays      previous  \\\n",
       "count  41188.00000  41188.000000  41188.000000  41188.000000  41188.000000   \n",
       "mean      40.02406    258.285010      2.567593    962.475454      0.172963   \n",
       "std       10.42125    259.279249      2.770014    186.910907      0.494901   \n",
       "min       17.00000      0.000000      1.000000      0.000000      0.000000   \n",
       "25%       32.00000    102.000000      1.000000    999.000000      0.000000   \n",
       "50%       38.00000    180.000000      2.000000    999.000000      0.000000   \n",
       "75%       47.00000    319.000000      3.000000    999.000000      0.000000   \n",
       "max       98.00000   4918.000000     56.000000    999.000000      7.000000   \n",
       "\n",
       "       emp.var.rate  cons.price.idx  cons.conf.idx     euribor3m   nr.employed  \n",
       "count  41188.000000    41188.000000   41188.000000  41188.000000  41188.000000  \n",
       "mean       0.081886       93.575664     -40.502600      3.621291   5167.035911  \n",
       "std        1.570960        0.578840       4.628198      1.734447     72.251528  \n",
       "min       -3.400000       92.201000     -50.800000      0.634000   4963.600000  \n",
       "25%       -1.800000       93.075000     -42.700000      1.344000   5099.100000  \n",
       "50%        1.100000       93.749000     -41.800000      4.857000   5191.000000  \n",
       "75%        1.400000       93.994000     -36.400000      4.961000   5228.100000  \n",
       "max        1.400000       94.767000     -26.900000      5.045000   5228.100000  "
      ]
     },
     "execution_count": 15,
     "metadata": {},
     "output_type": "execute_result"
    }
   ],
   "source": [
    "b_train.describe()"
   ]
  },
  {
   "cell_type": "code",
   "execution_count": 16,
   "metadata": {},
   "outputs": [
    {
     "data": {
      "text/plain": [
       "y                 0\n",
       "day_of_week       0\n",
       "job               0\n",
       "marital           0\n",
       "education         0\n",
       "default           0\n",
       "housing           0\n",
       "loan              0\n",
       "contact           0\n",
       "month             0\n",
       "duration          0\n",
       "nr.employed       0\n",
       "campaign          0\n",
       "pdays             0\n",
       "previous          0\n",
       "poutcome          0\n",
       "emp.var.rate      0\n",
       "cons.price.idx    0\n",
       "cons.conf.idx     0\n",
       "euribor3m         0\n",
       "age               0\n",
       "dtype: int64"
      ]
     },
     "execution_count": 16,
     "metadata": {},
     "output_type": "execute_result"
    }
   ],
   "source": [
    "b_train.isnull().sum().sort_values(ascending=False)\n",
    "\n",
    "# Checking if there is any null values in data set."
   ]
  },
  {
   "cell_type": "code",
   "execution_count": 17,
   "metadata": {},
   "outputs": [
    {
     "data": {
      "text/html": [
       "<div>\n",
       "<style>\n",
       "    .dataframe thead tr:only-child th {\n",
       "        text-align: right;\n",
       "    }\n",
       "\n",
       "    .dataframe thead th {\n",
       "        text-align: left;\n",
       "    }\n",
       "\n",
       "    .dataframe tbody tr th {\n",
       "        vertical-align: top;\n",
       "    }\n",
       "</style>\n",
       "<table border=\"1\" class=\"dataframe\">\n",
       "  <thead>\n",
       "    <tr style=\"text-align: right;\">\n",
       "      <th></th>\n",
       "      <th>age</th>\n",
       "      <th>job</th>\n",
       "      <th>marital</th>\n",
       "      <th>education</th>\n",
       "      <th>default</th>\n",
       "      <th>housing</th>\n",
       "      <th>loan</th>\n",
       "      <th>contact</th>\n",
       "      <th>month</th>\n",
       "      <th>day_of_week</th>\n",
       "      <th>...</th>\n",
       "      <th>campaign</th>\n",
       "      <th>pdays</th>\n",
       "      <th>previous</th>\n",
       "      <th>poutcome</th>\n",
       "      <th>emp.var.rate</th>\n",
       "      <th>cons.price.idx</th>\n",
       "      <th>cons.conf.idx</th>\n",
       "      <th>euribor3m</th>\n",
       "      <th>nr.employed</th>\n",
       "      <th>y</th>\n",
       "    </tr>\n",
       "  </thead>\n",
       "  <tbody>\n",
       "    <tr>\n",
       "      <th>0</th>\n",
       "      <td>56</td>\n",
       "      <td>housemaid</td>\n",
       "      <td>married</td>\n",
       "      <td>basic.4y</td>\n",
       "      <td>no</td>\n",
       "      <td>no</td>\n",
       "      <td>no</td>\n",
       "      <td>telephone</td>\n",
       "      <td>may</td>\n",
       "      <td>mon</td>\n",
       "      <td>...</td>\n",
       "      <td>1</td>\n",
       "      <td>999</td>\n",
       "      <td>0</td>\n",
       "      <td>nonexistent</td>\n",
       "      <td>1.1</td>\n",
       "      <td>93.994</td>\n",
       "      <td>-36.4</td>\n",
       "      <td>4.857</td>\n",
       "      <td>5191.0</td>\n",
       "      <td>0</td>\n",
       "    </tr>\n",
       "    <tr>\n",
       "      <th>1</th>\n",
       "      <td>57</td>\n",
       "      <td>services</td>\n",
       "      <td>married</td>\n",
       "      <td>high.school</td>\n",
       "      <td>unknown</td>\n",
       "      <td>no</td>\n",
       "      <td>no</td>\n",
       "      <td>telephone</td>\n",
       "      <td>may</td>\n",
       "      <td>mon</td>\n",
       "      <td>...</td>\n",
       "      <td>1</td>\n",
       "      <td>999</td>\n",
       "      <td>0</td>\n",
       "      <td>nonexistent</td>\n",
       "      <td>1.1</td>\n",
       "      <td>93.994</td>\n",
       "      <td>-36.4</td>\n",
       "      <td>4.857</td>\n",
       "      <td>5191.0</td>\n",
       "      <td>0</td>\n",
       "    </tr>\n",
       "    <tr>\n",
       "      <th>2</th>\n",
       "      <td>37</td>\n",
       "      <td>services</td>\n",
       "      <td>married</td>\n",
       "      <td>high.school</td>\n",
       "      <td>no</td>\n",
       "      <td>yes</td>\n",
       "      <td>no</td>\n",
       "      <td>telephone</td>\n",
       "      <td>may</td>\n",
       "      <td>mon</td>\n",
       "      <td>...</td>\n",
       "      <td>1</td>\n",
       "      <td>999</td>\n",
       "      <td>0</td>\n",
       "      <td>nonexistent</td>\n",
       "      <td>1.1</td>\n",
       "      <td>93.994</td>\n",
       "      <td>-36.4</td>\n",
       "      <td>4.857</td>\n",
       "      <td>5191.0</td>\n",
       "      <td>0</td>\n",
       "    </tr>\n",
       "    <tr>\n",
       "      <th>3</th>\n",
       "      <td>40</td>\n",
       "      <td>admin.</td>\n",
       "      <td>married</td>\n",
       "      <td>basic.6y</td>\n",
       "      <td>no</td>\n",
       "      <td>no</td>\n",
       "      <td>no</td>\n",
       "      <td>telephone</td>\n",
       "      <td>may</td>\n",
       "      <td>mon</td>\n",
       "      <td>...</td>\n",
       "      <td>1</td>\n",
       "      <td>999</td>\n",
       "      <td>0</td>\n",
       "      <td>nonexistent</td>\n",
       "      <td>1.1</td>\n",
       "      <td>93.994</td>\n",
       "      <td>-36.4</td>\n",
       "      <td>4.857</td>\n",
       "      <td>5191.0</td>\n",
       "      <td>0</td>\n",
       "    </tr>\n",
       "    <tr>\n",
       "      <th>4</th>\n",
       "      <td>56</td>\n",
       "      <td>services</td>\n",
       "      <td>married</td>\n",
       "      <td>high.school</td>\n",
       "      <td>no</td>\n",
       "      <td>no</td>\n",
       "      <td>yes</td>\n",
       "      <td>telephone</td>\n",
       "      <td>may</td>\n",
       "      <td>mon</td>\n",
       "      <td>...</td>\n",
       "      <td>1</td>\n",
       "      <td>999</td>\n",
       "      <td>0</td>\n",
       "      <td>nonexistent</td>\n",
       "      <td>1.1</td>\n",
       "      <td>93.994</td>\n",
       "      <td>-36.4</td>\n",
       "      <td>4.857</td>\n",
       "      <td>5191.0</td>\n",
       "      <td>0</td>\n",
       "    </tr>\n",
       "  </tbody>\n",
       "</table>\n",
       "<p>5 rows × 21 columns</p>\n",
       "</div>"
      ],
      "text/plain": [
       "   age        job  marital    education  default housing loan    contact  \\\n",
       "0   56  housemaid  married     basic.4y       no      no   no  telephone   \n",
       "1   57   services  married  high.school  unknown      no   no  telephone   \n",
       "2   37   services  married  high.school       no     yes   no  telephone   \n",
       "3   40     admin.  married     basic.6y       no      no   no  telephone   \n",
       "4   56   services  married  high.school       no      no  yes  telephone   \n",
       "\n",
       "  month day_of_week ...  campaign  pdays  previous     poutcome emp.var.rate  \\\n",
       "0   may         mon ...         1    999         0  nonexistent          1.1   \n",
       "1   may         mon ...         1    999         0  nonexistent          1.1   \n",
       "2   may         mon ...         1    999         0  nonexistent          1.1   \n",
       "3   may         mon ...         1    999         0  nonexistent          1.1   \n",
       "4   may         mon ...         1    999         0  nonexistent          1.1   \n",
       "\n",
       "   cons.price.idx  cons.conf.idx  euribor3m  nr.employed  y  \n",
       "0          93.994          -36.4      4.857       5191.0  0  \n",
       "1          93.994          -36.4      4.857       5191.0  0  \n",
       "2          93.994          -36.4      4.857       5191.0  0  \n",
       "3          93.994          -36.4      4.857       5191.0  0  \n",
       "4          93.994          -36.4      4.857       5191.0  0  \n",
       "\n",
       "[5 rows x 21 columns]"
      ]
     },
     "execution_count": 17,
     "metadata": {},
     "output_type": "execute_result"
    }
   ],
   "source": [
    "replacement = {\n",
    "    \"no\" : 0,\n",
    "    \"yes\": 1\n",
    "}\n",
    "\n",
    "b_train['y'] = b_train['y'].apply(lambda x: replacement.get(x))\n",
    "\n",
    "# Converting values of target column 'y' to 0 and 1 to study the responses\n",
    "\n",
    "b_train.head()"
   ]
  },
  {
   "cell_type": "markdown",
   "metadata": {},
   "source": [
    "# Lets chceck if the data is balanced or not"
   ]
  },
  {
   "cell_type": "code",
   "execution_count": 23,
   "metadata": {},
   "outputs": [
    {
     "data": {
      "text/plain": [
       "(<matplotlib.axes._subplots.AxesSubplot at 0x28980fd0208>, None)"
      ]
     },
     "execution_count": 23,
     "metadata": {},
     "output_type": "execute_result"
    },
    {
     "data": {
      "image/png": "[encoded data removed]",
      "text/plain": [
       "<matplotlib.figure.Figure at 0x289803379e8>"
      ]
     },
     "metadata": {},
     "output_type": "display_data"
    }
   ],
   "source": [
    "sns.countplot(x='y', data=b_train), plt.grid()\n",
    "\n",
    "# Unbalanced"
   ]
  },
  {
   "cell_type": "markdown",
   "metadata": {},
   "source": [
    "# Converting Months into Quarters to check its the impact on response"
   ]
  },
  {
   "cell_type": "code",
   "execution_count": 18,
   "metadata": {},
   "outputs": [
    {
     "data": {
      "text/html": [
       "<div>\n",
       "<style>\n",
       "    .dataframe thead tr:only-child th {\n",
       "        text-align: right;\n",
       "    }\n",
       "\n",
       "    .dataframe thead th {\n",
       "        text-align: left;\n",
       "    }\n",
       "\n",
       "    .dataframe tbody tr th {\n",
       "        vertical-align: top;\n",
       "    }\n",
       "</style>\n",
       "<table border=\"1\" class=\"dataframe\">\n",
       "  <thead>\n",
       "    <tr style=\"text-align: right;\">\n",
       "      <th></th>\n",
       "      <th>age</th>\n",
       "      <th>job</th>\n",
       "      <th>marital</th>\n",
       "      <th>education</th>\n",
       "      <th>default</th>\n",
       "      <th>housing</th>\n",
       "      <th>loan</th>\n",
       "      <th>contact</th>\n",
       "      <th>month</th>\n",
       "      <th>day_of_week</th>\n",
       "      <th>...</th>\n",
       "      <th>campaign</th>\n",
       "      <th>pdays</th>\n",
       "      <th>previous</th>\n",
       "      <th>poutcome</th>\n",
       "      <th>emp.var.rate</th>\n",
       "      <th>cons.price.idx</th>\n",
       "      <th>cons.conf.idx</th>\n",
       "      <th>euribor3m</th>\n",
       "      <th>nr.employed</th>\n",
       "      <th>y</th>\n",
       "    </tr>\n",
       "  </thead>\n",
       "  <tbody>\n",
       "    <tr>\n",
       "      <th>0</th>\n",
       "      <td>56</td>\n",
       "      <td>housemaid</td>\n",
       "      <td>married</td>\n",
       "      <td>basic.4y</td>\n",
       "      <td>no</td>\n",
       "      <td>no</td>\n",
       "      <td>no</td>\n",
       "      <td>telephone</td>\n",
       "      <td>2</td>\n",
       "      <td>mon</td>\n",
       "      <td>...</td>\n",
       "      <td>1</td>\n",
       "      <td>999</td>\n",
       "      <td>0</td>\n",
       "      <td>nonexistent</td>\n",
       "      <td>1.1</td>\n",
       "      <td>93.994</td>\n",
       "      <td>-36.4</td>\n",
       "      <td>4.857</td>\n",
       "      <td>5191.0</td>\n",
       "      <td>0</td>\n",
       "    </tr>\n",
       "    <tr>\n",
       "      <th>1</th>\n",
       "      <td>57</td>\n",
       "      <td>services</td>\n",
       "      <td>married</td>\n",
       "      <td>high.school</td>\n",
       "      <td>unknown</td>\n",
       "      <td>no</td>\n",
       "      <td>no</td>\n",
       "      <td>telephone</td>\n",
       "      <td>2</td>\n",
       "      <td>mon</td>\n",
       "      <td>...</td>\n",
       "      <td>1</td>\n",
       "      <td>999</td>\n",
       "      <td>0</td>\n",
       "      <td>nonexistent</td>\n",
       "      <td>1.1</td>\n",
       "      <td>93.994</td>\n",
       "      <td>-36.4</td>\n",
       "      <td>4.857</td>\n",
       "      <td>5191.0</td>\n",
       "      <td>0</td>\n",
       "    </tr>\n",
       "    <tr>\n",
       "      <th>2</th>\n",
       "      <td>37</td>\n",
       "      <td>services</td>\n",
       "      <td>married</td>\n",
       "      <td>high.school</td>\n",
       "      <td>no</td>\n",
       "      <td>yes</td>\n",
       "      <td>no</td>\n",
       "      <td>telephone</td>\n",
       "      <td>2</td>\n",
       "      <td>mon</td>\n",
       "      <td>...</td>\n",
       "      <td>1</td>\n",
       "      <td>999</td>\n",
       "      <td>0</td>\n",
       "      <td>nonexistent</td>\n",
       "      <td>1.1</td>\n",
       "      <td>93.994</td>\n",
       "      <td>-36.4</td>\n",
       "      <td>4.857</td>\n",
       "      <td>5191.0</td>\n",
       "      <td>0</td>\n",
       "    </tr>\n",
       "    <tr>\n",
       "      <th>3</th>\n",
       "      <td>40</td>\n",
       "      <td>admin.</td>\n",
       "      <td>married</td>\n",
       "      <td>basic.6y</td>\n",
       "      <td>no</td>\n",
       "      <td>no</td>\n",
       "      <td>no</td>\n",
       "      <td>telephone</td>\n",
       "      <td>2</td>\n",
       "      <td>mon</td>\n",
       "      <td>...</td>\n",
       "      <td>1</td>\n",
       "      <td>999</td>\n",
       "      <td>0</td>\n",
       "      <td>nonexistent</td>\n",
       "      <td>1.1</td>\n",
       "      <td>93.994</td>\n",
       "      <td>-36.4</td>\n",
       "      <td>4.857</td>\n",
       "      <td>5191.0</td>\n",
       "      <td>0</td>\n",
       "    </tr>\n",
       "    <tr>\n",
       "      <th>4</th>\n",
       "      <td>56</td>\n",
       "      <td>services</td>\n",
       "      <td>married</td>\n",
       "      <td>high.school</td>\n",
       "      <td>no</td>\n",
       "      <td>no</td>\n",
       "      <td>yes</td>\n",
       "      <td>telephone</td>\n",
       "      <td>2</td>\n",
       "      <td>mon</td>\n",
       "      <td>...</td>\n",
       "      <td>1</td>\n",
       "      <td>999</td>\n",
       "      <td>0</td>\n",
       "      <td>nonexistent</td>\n",
       "      <td>1.1</td>\n",
       "      <td>93.994</td>\n",
       "      <td>-36.4</td>\n",
       "      <td>4.857</td>\n",
       "      <td>5191.0</td>\n",
       "      <td>0</td>\n",
       "    </tr>\n",
       "  </tbody>\n",
       "</table>\n",
       "<p>5 rows × 21 columns</p>\n",
       "</div>"
      ],
      "text/plain": [
       "   age        job  marital    education  default housing loan    contact  \\\n",
       "0   56  housemaid  married     basic.4y       no      no   no  telephone   \n",
       "1   57   services  married  high.school  unknown      no   no  telephone   \n",
       "2   37   services  married  high.school       no     yes   no  telephone   \n",
       "3   40     admin.  married     basic.6y       no      no   no  telephone   \n",
       "4   56   services  married  high.school       no      no  yes  telephone   \n",
       "\n",
       "   month day_of_week ...  campaign  pdays  previous     poutcome emp.var.rate  \\\n",
       "0      2         mon ...         1    999         0  nonexistent          1.1   \n",
       "1      2         mon ...         1    999         0  nonexistent          1.1   \n",
       "2      2         mon ...         1    999         0  nonexistent          1.1   \n",
       "3      2         mon ...         1    999         0  nonexistent          1.1   \n",
       "4      2         mon ...         1    999         0  nonexistent          1.1   \n",
       "\n",
       "   cons.price.idx  cons.conf.idx  euribor3m  nr.employed  y  \n",
       "0          93.994          -36.4      4.857       5191.0  0  \n",
       "1          93.994          -36.4      4.857       5191.0  0  \n",
       "2          93.994          -36.4      4.857       5191.0  0  \n",
       "3          93.994          -36.4      4.857       5191.0  0  \n",
       "4          93.994          -36.4      4.857       5191.0  0  \n",
       "\n",
       "[5 rows x 21 columns]"
      ]
     },
     "execution_count": 18,
     "metadata": {},
     "output_type": "execute_result"
    }
   ],
   "source": [
    "replacement = {\n",
    "    \n",
    "    'jan': 1,\n",
    "    'feb': 1,\n",
    "    'mar': 1,\n",
    "    'apr': 2,\n",
    "    'may': 2,\n",
    "    'jun': 2,\n",
    "    'jul': 3,\n",
    "    'aug': 3,\n",
    "    'sep': 3,\n",
    "    'oct': 4,\n",
    "    'nov': 4,\n",
    "    'dec': 4\n",
    "    \n",
    "}\n",
    "\n",
    "b_train['month'] = b_train['month'].apply(lambda x: replacement.get(x))\n",
    "b_train.head()"
   ]
  },
  {
   "cell_type": "code",
   "execution_count": 19,
   "metadata": {},
   "outputs": [
    {
     "data": {
      "text/html": [
       "<div>\n",
       "<style>\n",
       "    .dataframe thead tr:only-child th {\n",
       "        text-align: right;\n",
       "    }\n",
       "\n",
       "    .dataframe thead th {\n",
       "        text-align: left;\n",
       "    }\n",
       "\n",
       "    .dataframe tbody tr th {\n",
       "        vertical-align: top;\n",
       "    }\n",
       "</style>\n",
       "<table border=\"1\" class=\"dataframe\">\n",
       "  <thead>\n",
       "    <tr style=\"text-align: right;\">\n",
       "      <th></th>\n",
       "      <th>month</th>\n",
       "      <th>y</th>\n",
       "    </tr>\n",
       "  </thead>\n",
       "  <tbody>\n",
       "    <tr>\n",
       "      <th>0</th>\n",
       "      <td>1</td>\n",
       "      <td>0.505495</td>\n",
       "    </tr>\n",
       "    <tr>\n",
       "      <th>1</th>\n",
       "      <td>2</td>\n",
       "      <td>0.091349</td>\n",
       "    </tr>\n",
       "    <tr>\n",
       "      <th>2</th>\n",
       "      <td>3</td>\n",
       "      <td>0.112053</td>\n",
       "    </tr>\n",
       "    <tr>\n",
       "      <th>3</th>\n",
       "      <td>4</td>\n",
       "      <td>0.163967</td>\n",
       "    </tr>\n",
       "  </tbody>\n",
       "</table>\n",
       "</div>"
      ],
      "text/plain": [
       "   month         y\n",
       "0      1  0.505495\n",
       "1      2  0.091349\n",
       "2      3  0.112053\n",
       "3      4  0.163967"
      ]
     },
     "execution_count": 19,
     "metadata": {},
     "output_type": "execute_result"
    }
   ],
   "source": [
    "b_train[[\"month\", \"y\"]].groupby(['month'], as_index=False).mean()\n",
    "\n",
    "# It can be seen that customer response is good in the first quarter. And it is also interesting to see the gradual increase later"
   ]
  },
  {
   "cell_type": "code",
   "execution_count": 20,
   "metadata": {},
   "outputs": [
    {
     "name": "stderr",
     "output_type": "stream",
     "text": [
      "C:\\Users\\prana\\AppData\\Local\\conda\\conda\\envs\\tfdeeplearning\\lib\\site-packages\\seaborn\\categorical.py:3666: UserWarning: The `factorplot` function has been renamed to `catplot`. The original name will be removed in a future release. Please update your code. Note that the default `kind` in `factorplot` (`'point'`) has changed `'strip'` in `catplot`.\n",
      "  warnings.warn(msg)\n"
     ]
    },
    {
     "data": {
      "text/plain": [
       "<matplotlib.text.Text at 0x289803a4400>"
      ]
     },
     "execution_count": 20,
     "metadata": {},
     "output_type": "execute_result"
    },
    {
     "data": {
      "image/png": "[encoded data removed]",
      "text/plain": [
       "<matplotlib.figure.Figure at 0x2898035e7b8>"
      ]
     },
     "metadata": {},
     "output_type": "display_data"
    }
   ],
   "source": [
    "sns.factorplot(data=b_train, x='month', hue='y', kind='count')\n",
    "plt.subplots_adjust(bottom=0.3, top=0.9)\n",
    "plt.title('Contact quarter vs decision')"
   ]
  },
  {
   "cell_type": "code",
   "execution_count": 22,
   "metadata": {},
   "outputs": [
    {
     "name": "stderr",
     "output_type": "stream",
     "text": [
      "C:\\Users\\prana\\AppData\\Local\\conda\\conda\\envs\\tfdeeplearning\\lib\\site-packages\\seaborn\\categorical.py:3666: UserWarning: The `factorplot` function has been renamed to `catplot`. The original name will be removed in a future release. Please update your code. Note that the default `kind` in `factorplot` (`'point'`) has changed `'strip'` in `catplot`.\n",
      "  warnings.warn(msg)\n"
     ]
    },
    {
     "data": {
      "text/plain": [
       "<matplotlib.text.Text at 0x28980f7deb8>"
      ]
     },
     "execution_count": 22,
     "metadata": {},
     "output_type": "execute_result"
    },
    {
     "data": {
      "image/png": "[encoded data removed]",
      "text/plain": [
       "<matplotlib.figure.Figure at 0x289803a9c88>"
      ]
     },
     "metadata": {},
     "output_type": "display_data"
    }
   ],
   "source": [
    "sns.factorplot(data=b_train, x='day_of_week', hue='y', kind='count')\n",
    "plt.subplots_adjust(bottom=0.3, top=0.9)\n",
    "plt.title('Contact day vs Decision')\n",
    "\n",
    "# Day of the week is not affecting the target."
   ]
  },
  {
   "cell_type": "code",
   "execution_count": 26,
   "metadata": {},
   "outputs": [
    {
     "name": "stderr",
     "output_type": "stream",
     "text": [
      "C:\\Users\\prana\\AppData\\Local\\conda\\conda\\envs\\tfdeeplearning\\lib\\site-packages\\seaborn\\categorical.py:3666: UserWarning: The `factorplot` function has been renamed to `catplot`. The original name will be removed in a future release. Please update your code. Note that the default `kind` in `factorplot` (`'point'`) has changed `'strip'` in `catplot`.\n",
      "  warnings.warn(msg)\n"
     ]
    },
    {
     "data": {
      "text/plain": [
       "<matplotlib.text.Text at 0x2898101ea58>"
      ]
     },
     "execution_count": 26,
     "metadata": {},
     "output_type": "execute_result"
    },
    {
     "data": {
      "image/png": "[encoded data removed]",
      "text/plain": [
       "<matplotlib.figure.Figure at 0x28980f59208>"
      ]
     },
     "metadata": {},
     "output_type": "display_data"
    }
   ],
   "source": [
    "b_train['campaign_before'] = np.where(b_train['pdays'] == 999, 0, 1)\n",
    "# Creating a new column to filter new clients and check its impact on target\n",
    "\n",
    "sns.factorplot(data=b_train, x='campaign_before', hue='y', kind='count')\n",
    "plt.subplots_adjust(bottom=0.3, top=0.9)\n",
    "plt.title('Effect of previous contact on decision')\n",
    "labels = ['No', 'Yes']\n",
    "plt.gca().set_xticklabels(labels)\n",
    "plt.xlabel('Contacted in previous campaign')"
   ]
  },
  {
   "cell_type": "markdown",
   "metadata": {},
   "source": [
    "\n",
    "# As per the above observation, the data set is imbalanced."
   ]
  },
  {
   "cell_type": "code",
   "execution_count": 27,
   "metadata": {
    "collapsed": true
   },
   "outputs": [],
   "source": [
    "b_train_num=b_train.select_dtypes(include=[np.number])\n",
    "#Filters Numericals from the overall data\n",
    "b_train_cat=b_train.select_dtypes(include=['object'])\n",
    "#Filters Categorical/Words from the overall data"
   ]
  },
  {
   "cell_type": "code",
   "execution_count": 28,
   "metadata": {},
   "outputs": [
    {
     "name": "stdout",
     "output_type": "stream",
     "text": [
      "(41188, 13)\n",
      "(41188, 9)\n",
      "----------------\n",
      "Index(['age', 'month', 'duration', 'campaign', 'pdays', 'previous',\n",
      "       'emp.var.rate', 'cons.price.idx', 'cons.conf.idx', 'euribor3m',\n",
      "       'nr.employed', 'y', 'campaign_before'],\n",
      "      dtype='object')\n",
      "Index(['job', 'marital', 'education', 'default', 'housing', 'loan', 'contact',\n",
      "       'day_of_week', 'poutcome'],\n",
      "      dtype='object')\n"
     ]
    }
   ],
   "source": [
    "print(b_train_num.shape)\n",
    "print(b_train_cat.shape)\n",
    "print(\"----------------\")\n",
    "print(b_train_num.columns)\n",
    "print(b_train_cat.columns)"
   ]
  },
  {
   "cell_type": "markdown",
   "metadata": {},
   "source": [
    "# The categorical are converted into numerical"
   ]
  },
  {
   "cell_type": "code",
   "execution_count": 29,
   "metadata": {
    "collapsed": true
   },
   "outputs": [],
   "source": [
    "from sklearn.preprocessing import LabelEncoder\n",
    "le=LabelEncoder()"
   ]
  },
  {
   "cell_type": "code",
   "execution_count": 30,
   "metadata": {},
   "outputs": [
    {
     "data": {
      "text/html": [
       "<div>\n",
       "<style>\n",
       "    .dataframe thead tr:only-child th {\n",
       "        text-align: right;\n",
       "    }\n",
       "\n",
       "    .dataframe thead th {\n",
       "        text-align: left;\n",
       "    }\n",
       "\n",
       "    .dataframe tbody tr th {\n",
       "        vertical-align: top;\n",
       "    }\n",
       "</style>\n",
       "<table border=\"1\" class=\"dataframe\">\n",
       "  <thead>\n",
       "    <tr style=\"text-align: right;\">\n",
       "      <th></th>\n",
       "      <th>job</th>\n",
       "      <th>marital</th>\n",
       "      <th>education</th>\n",
       "      <th>default</th>\n",
       "      <th>housing</th>\n",
       "      <th>loan</th>\n",
       "      <th>contact</th>\n",
       "      <th>day_of_week</th>\n",
       "      <th>poutcome</th>\n",
       "    </tr>\n",
       "  </thead>\n",
       "  <tbody>\n",
       "    <tr>\n",
       "      <th>0</th>\n",
       "      <td>housemaid</td>\n",
       "      <td>married</td>\n",
       "      <td>basic.4y</td>\n",
       "      <td>no</td>\n",
       "      <td>no</td>\n",
       "      <td>no</td>\n",
       "      <td>telephone</td>\n",
       "      <td>mon</td>\n",
       "      <td>nonexistent</td>\n",
       "    </tr>\n",
       "    <tr>\n",
       "      <th>1</th>\n",
       "      <td>services</td>\n",
       "      <td>married</td>\n",
       "      <td>high.school</td>\n",
       "      <td>unknown</td>\n",
       "      <td>no</td>\n",
       "      <td>no</td>\n",
       "      <td>telephone</td>\n",
       "      <td>mon</td>\n",
       "      <td>nonexistent</td>\n",
       "    </tr>\n",
       "    <tr>\n",
       "      <th>2</th>\n",
       "      <td>services</td>\n",
       "      <td>married</td>\n",
       "      <td>high.school</td>\n",
       "      <td>no</td>\n",
       "      <td>yes</td>\n",
       "      <td>no</td>\n",
       "      <td>telephone</td>\n",
       "      <td>mon</td>\n",
       "      <td>nonexistent</td>\n",
       "    </tr>\n",
       "    <tr>\n",
       "      <th>3</th>\n",
       "      <td>admin.</td>\n",
       "      <td>married</td>\n",
       "      <td>basic.6y</td>\n",
       "      <td>no</td>\n",
       "      <td>no</td>\n",
       "      <td>no</td>\n",
       "      <td>telephone</td>\n",
       "      <td>mon</td>\n",
       "      <td>nonexistent</td>\n",
       "    </tr>\n",
       "    <tr>\n",
       "      <th>4</th>\n",
       "      <td>services</td>\n",
       "      <td>married</td>\n",
       "      <td>high.school</td>\n",
       "      <td>no</td>\n",
       "      <td>no</td>\n",
       "      <td>yes</td>\n",
       "      <td>telephone</td>\n",
       "      <td>mon</td>\n",
       "      <td>nonexistent</td>\n",
       "    </tr>\n",
       "  </tbody>\n",
       "</table>\n",
       "</div>"
      ],
      "text/plain": [
       "         job  marital    education  default housing loan    contact  \\\n",
       "0  housemaid  married     basic.4y       no      no   no  telephone   \n",
       "1   services  married  high.school  unknown      no   no  telephone   \n",
       "2   services  married  high.school       no     yes   no  telephone   \n",
       "3     admin.  married     basic.6y       no      no   no  telephone   \n",
       "4   services  married  high.school       no      no  yes  telephone   \n",
       "\n",
       "  day_of_week     poutcome  \n",
       "0         mon  nonexistent  \n",
       "1         mon  nonexistent  \n",
       "2         mon  nonexistent  \n",
       "3         mon  nonexistent  \n",
       "4         mon  nonexistent  "
      ]
     },
     "execution_count": 30,
     "metadata": {},
     "output_type": "execute_result"
    }
   ],
   "source": [
    "b_train_cat.head()"
   ]
  },
  {
   "cell_type": "code",
   "execution_count": 31,
   "metadata": {
    "collapsed": true
   },
   "outputs": [],
   "source": [
    "b_train_cat_encoded=b_train_cat.apply(le.fit_transform)\n",
    "# This steps encodes the words with a code(numerical)"
   ]
  },
  {
   "cell_type": "code",
   "execution_count": 32,
   "metadata": {},
   "outputs": [
    {
     "data": {
      "text/html": [
       "<div>\n",
       "<style>\n",
       "    .dataframe thead tr:only-child th {\n",
       "        text-align: right;\n",
       "    }\n",
       "\n",
       "    .dataframe thead th {\n",
       "        text-align: left;\n",
       "    }\n",
       "\n",
       "    .dataframe tbody tr th {\n",
       "        vertical-align: top;\n",
       "    }\n",
       "</style>\n",
       "<table border=\"1\" class=\"dataframe\">\n",
       "  <thead>\n",
       "    <tr style=\"text-align: right;\">\n",
       "      <th></th>\n",
       "      <th>job</th>\n",
       "      <th>marital</th>\n",
       "      <th>education</th>\n",
       "      <th>default</th>\n",
       "      <th>housing</th>\n",
       "      <th>loan</th>\n",
       "      <th>contact</th>\n",
       "      <th>day_of_week</th>\n",
       "      <th>poutcome</th>\n",
       "    </tr>\n",
       "  </thead>\n",
       "  <tbody>\n",
       "    <tr>\n",
       "      <th>0</th>\n",
       "      <td>3</td>\n",
       "      <td>1</td>\n",
       "      <td>0</td>\n",
       "      <td>0</td>\n",
       "      <td>0</td>\n",
       "      <td>0</td>\n",
       "      <td>1</td>\n",
       "      <td>1</td>\n",
       "      <td>1</td>\n",
       "    </tr>\n",
       "    <tr>\n",
       "      <th>1</th>\n",
       "      <td>7</td>\n",
       "      <td>1</td>\n",
       "      <td>3</td>\n",
       "      <td>1</td>\n",
       "      <td>0</td>\n",
       "      <td>0</td>\n",
       "      <td>1</td>\n",
       "      <td>1</td>\n",
       "      <td>1</td>\n",
       "    </tr>\n",
       "    <tr>\n",
       "      <th>2</th>\n",
       "      <td>7</td>\n",
       "      <td>1</td>\n",
       "      <td>3</td>\n",
       "      <td>0</td>\n",
       "      <td>2</td>\n",
       "      <td>0</td>\n",
       "      <td>1</td>\n",
       "      <td>1</td>\n",
       "      <td>1</td>\n",
       "    </tr>\n",
       "    <tr>\n",
       "      <th>3</th>\n",
       "      <td>0</td>\n",
       "      <td>1</td>\n",
       "      <td>1</td>\n",
       "      <td>0</td>\n",
       "      <td>0</td>\n",
       "      <td>0</td>\n",
       "      <td>1</td>\n",
       "      <td>1</td>\n",
       "      <td>1</td>\n",
       "    </tr>\n",
       "    <tr>\n",
       "      <th>4</th>\n",
       "      <td>7</td>\n",
       "      <td>1</td>\n",
       "      <td>3</td>\n",
       "      <td>0</td>\n",
       "      <td>0</td>\n",
       "      <td>2</td>\n",
       "      <td>1</td>\n",
       "      <td>1</td>\n",
       "      <td>1</td>\n",
       "    </tr>\n",
       "  </tbody>\n",
       "</table>\n",
       "</div>"
      ],
      "text/plain": [
       "   job  marital  education  default  housing  loan  contact  day_of_week  \\\n",
       "0    3        1          0        0        0     0        1            1   \n",
       "1    7        1          3        1        0     0        1            1   \n",
       "2    7        1          3        0        2     0        1            1   \n",
       "3    0        1          1        0        0     0        1            1   \n",
       "4    7        1          3        0        0     2        1            1   \n",
       "\n",
       "   poutcome  \n",
       "0         1  \n",
       "1         1  \n",
       "2         1  \n",
       "3         1  \n",
       "4         1  "
      ]
     },
     "execution_count": 32,
     "metadata": {},
     "output_type": "execute_result"
    }
   ],
   "source": [
    "b_train_cat_encoded.head()"
   ]
  },
  {
   "cell_type": "code",
   "execution_count": 33,
   "metadata": {
    "collapsed": true
   },
   "outputs": [],
   "source": [
    "TRAIN=pd.concat([b_train_num,b_train_cat_encoded],axis=1)\n",
    "# Combining both numberical and categorical dataframes"
   ]
  },
  {
   "cell_type": "code",
   "execution_count": 34,
   "metadata": {},
   "outputs": [
    {
     "data": {
      "text/html": [
       "<div>\n",
       "<style>\n",
       "    .dataframe thead tr:only-child th {\n",
       "        text-align: right;\n",
       "    }\n",
       "\n",
       "    .dataframe thead th {\n",
       "        text-align: left;\n",
       "    }\n",
       "\n",
       "    .dataframe tbody tr th {\n",
       "        vertical-align: top;\n",
       "    }\n",
       "</style>\n",
       "<table border=\"1\" class=\"dataframe\">\n",
       "  <thead>\n",
       "    <tr style=\"text-align: right;\">\n",
       "      <th></th>\n",
       "      <th>age</th>\n",
       "      <th>month</th>\n",
       "      <th>duration</th>\n",
       "      <th>campaign</th>\n",
       "      <th>pdays</th>\n",
       "      <th>previous</th>\n",
       "      <th>emp.var.rate</th>\n",
       "      <th>cons.price.idx</th>\n",
       "      <th>cons.conf.idx</th>\n",
       "      <th>euribor3m</th>\n",
       "      <th>...</th>\n",
       "      <th>campaign_before</th>\n",
       "      <th>job</th>\n",
       "      <th>marital</th>\n",
       "      <th>education</th>\n",
       "      <th>default</th>\n",
       "      <th>housing</th>\n",
       "      <th>loan</th>\n",
       "      <th>contact</th>\n",
       "      <th>day_of_week</th>\n",
       "      <th>poutcome</th>\n",
       "    </tr>\n",
       "  </thead>\n",
       "  <tbody>\n",
       "    <tr>\n",
       "      <th>0</th>\n",
       "      <td>56</td>\n",
       "      <td>2</td>\n",
       "      <td>261</td>\n",
       "      <td>1</td>\n",
       "      <td>999</td>\n",
       "      <td>0</td>\n",
       "      <td>1.1</td>\n",
       "      <td>93.994</td>\n",
       "      <td>-36.4</td>\n",
       "      <td>4.857</td>\n",
       "      <td>...</td>\n",
       "      <td>0</td>\n",
       "      <td>3</td>\n",
       "      <td>1</td>\n",
       "      <td>0</td>\n",
       "      <td>0</td>\n",
       "      <td>0</td>\n",
       "      <td>0</td>\n",
       "      <td>1</td>\n",
       "      <td>1</td>\n",
       "      <td>1</td>\n",
       "    </tr>\n",
       "    <tr>\n",
       "      <th>1</th>\n",
       "      <td>57</td>\n",
       "      <td>2</td>\n",
       "      <td>149</td>\n",
       "      <td>1</td>\n",
       "      <td>999</td>\n",
       "      <td>0</td>\n",
       "      <td>1.1</td>\n",
       "      <td>93.994</td>\n",
       "      <td>-36.4</td>\n",
       "      <td>4.857</td>\n",
       "      <td>...</td>\n",
       "      <td>0</td>\n",
       "      <td>7</td>\n",
       "      <td>1</td>\n",
       "      <td>3</td>\n",
       "      <td>1</td>\n",
       "      <td>0</td>\n",
       "      <td>0</td>\n",
       "      <td>1</td>\n",
       "      <td>1</td>\n",
       "      <td>1</td>\n",
       "    </tr>\n",
       "    <tr>\n",
       "      <th>2</th>\n",
       "      <td>37</td>\n",
       "      <td>2</td>\n",
       "      <td>226</td>\n",
       "      <td>1</td>\n",
       "      <td>999</td>\n",
       "      <td>0</td>\n",
       "      <td>1.1</td>\n",
       "      <td>93.994</td>\n",
       "      <td>-36.4</td>\n",
       "      <td>4.857</td>\n",
       "      <td>...</td>\n",
       "      <td>0</td>\n",
       "      <td>7</td>\n",
       "      <td>1</td>\n",
       "      <td>3</td>\n",
       "      <td>0</td>\n",
       "      <td>2</td>\n",
       "      <td>0</td>\n",
       "      <td>1</td>\n",
       "      <td>1</td>\n",
       "      <td>1</td>\n",
       "    </tr>\n",
       "    <tr>\n",
       "      <th>3</th>\n",
       "      <td>40</td>\n",
       "      <td>2</td>\n",
       "      <td>151</td>\n",
       "      <td>1</td>\n",
       "      <td>999</td>\n",
       "      <td>0</td>\n",
       "      <td>1.1</td>\n",
       "      <td>93.994</td>\n",
       "      <td>-36.4</td>\n",
       "      <td>4.857</td>\n",
       "      <td>...</td>\n",
       "      <td>0</td>\n",
       "      <td>0</td>\n",
       "      <td>1</td>\n",
       "      <td>1</td>\n",
       "      <td>0</td>\n",
       "      <td>0</td>\n",
       "      <td>0</td>\n",
       "      <td>1</td>\n",
       "      <td>1</td>\n",
       "      <td>1</td>\n",
       "    </tr>\n",
       "    <tr>\n",
       "      <th>4</th>\n",
       "      <td>56</td>\n",
       "      <td>2</td>\n",
       "      <td>307</td>\n",
       "      <td>1</td>\n",
       "      <td>999</td>\n",
       "      <td>0</td>\n",
       "      <td>1.1</td>\n",
       "      <td>93.994</td>\n",
       "      <td>-36.4</td>\n",
       "      <td>4.857</td>\n",
       "      <td>...</td>\n",
       "      <td>0</td>\n",
       "      <td>7</td>\n",
       "      <td>1</td>\n",
       "      <td>3</td>\n",
       "      <td>0</td>\n",
       "      <td>0</td>\n",
       "      <td>2</td>\n",
       "      <td>1</td>\n",
       "      <td>1</td>\n",
       "      <td>1</td>\n",
       "    </tr>\n",
       "  </tbody>\n",
       "</table>\n",
       "<p>5 rows × 22 columns</p>\n",
       "</div>"
      ],
      "text/plain": [
       "   age  month  duration  campaign  pdays  previous  emp.var.rate  \\\n",
       "0   56      2       261         1    999         0           1.1   \n",
       "1   57      2       149         1    999         0           1.1   \n",
       "2   37      2       226         1    999         0           1.1   \n",
       "3   40      2       151         1    999         0           1.1   \n",
       "4   56      2       307         1    999         0           1.1   \n",
       "\n",
       "   cons.price.idx  cons.conf.idx  euribor3m    ...     campaign_before  job  \\\n",
       "0          93.994          -36.4      4.857    ...                   0    3   \n",
       "1          93.994          -36.4      4.857    ...                   0    7   \n",
       "2          93.994          -36.4      4.857    ...                   0    7   \n",
       "3          93.994          -36.4      4.857    ...                   0    0   \n",
       "4          93.994          -36.4      4.857    ...                   0    7   \n",
       "\n",
       "   marital  education  default  housing  loan  contact  day_of_week  poutcome  \n",
       "0        1          0        0        0     0        1            1         1  \n",
       "1        1          3        1        0     0        1            1         1  \n",
       "2        1          3        0        2     0        1            1         1  \n",
       "3        1          1        0        0     0        1            1         1  \n",
       "4        1          3        0        0     2        1            1         1  \n",
       "\n",
       "[5 rows x 22 columns]"
      ]
     },
     "execution_count": 34,
     "metadata": {},
     "output_type": "execute_result"
    }
   ],
   "source": [
    "TRAIN.head()"
   ]
  },
  {
   "cell_type": "code",
   "execution_count": 35,
   "metadata": {},
   "outputs": [
    {
     "name": "stdout",
     "output_type": "stream",
     "text": [
      "(41188, 22)\n",
      "Index(['age', 'month', 'duration', 'campaign', 'pdays', 'previous',\n",
      "       'emp.var.rate', 'cons.price.idx', 'cons.conf.idx', 'euribor3m',\n",
      "       'nr.employed', 'y', 'campaign_before', 'job', 'marital', 'education',\n",
      "       'default', 'housing', 'loan', 'contact', 'day_of_week', 'poutcome'],\n",
      "      dtype='object')\n"
     ]
    }
   ],
   "source": [
    "print(TRAIN.shape)\n",
    "print(TRAIN.columns)"
   ]
  },
  {
   "cell_type": "markdown",
   "metadata": {},
   "source": [
    "# Since the duration consists of continuous values, it must be converted into categories for better understanding"
   ]
  },
  {
   "cell_type": "code",
   "execution_count": 36,
   "metadata": {},
   "outputs": [
    {
     "name": "stdout",
     "output_type": "stream",
     "text": [
      "  CategoricalDuration         y\n",
      "0      (-0.001, 73.0]  0.001821\n",
      "1       (73.0, 112.0]  0.020776\n",
      "2      (112.0, 155.0]  0.039638\n",
      "3      (155.0, 209.0]  0.073011\n",
      "4      (209.0, 291.0]  0.110655\n",
      "5      (291.0, 452.0]  0.152081\n",
      "6     (452.0, 4918.0]  0.392681\n"
     ]
    }
   ],
   "source": [
    "TRAIN['CategoricalDuration'] = pd.qcut(TRAIN['duration'], 7)\n",
    "print (TRAIN[['CategoricalDuration', 'y']].groupby(['CategoricalDuration'], as_index=False).mean())\n",
    "\n",
    "# Categorising the Duration efficiently"
   ]
  },
  {
   "cell_type": "code",
   "execution_count": 37,
   "metadata": {},
   "outputs": [
    {
     "data": {
      "text/plain": [
       "0    4\n",
       "1    2\n",
       "2    4\n",
       "3    2\n",
       "4    5\n",
       "Name: duration, dtype: int32"
      ]
     },
     "execution_count": 37,
     "metadata": {},
     "output_type": "execute_result"
    }
   ],
   "source": [
    "TRAIN.loc[(TRAIN['duration'] > -1) & (TRAIN['duration'] <= 73.0), 'duration'] = 0\n",
    "TRAIN.loc[(TRAIN['duration'] > 73.0) & (TRAIN['duration'] <= 112.0), 'duration'] = 1\n",
    "TRAIN.loc[(TRAIN['duration'] > 112.0) & (TRAIN['duration'] <= 155.0), 'duration'] = 2\n",
    "TRAIN.loc[(TRAIN['duration'] > 155.0) & (TRAIN['duration'] <= 209.0), 'duration'] = 3\n",
    "TRAIN.loc[(TRAIN['duration'] > 209.0) & (TRAIN['duration'] <= 291.0), 'duration'] = 4\n",
    "TRAIN.loc[(TRAIN['duration'] > 291.0) & (TRAIN['duration'] <= 452.0), 'duration'] = 5\n",
    "TRAIN.loc[ TRAIN['duration'] > 452.0, 'duration'] = 6\n",
    "TRAIN['duration'] = TRAIN['duration'].astype(int)\n",
    "TRAIN['duration'].head()\n",
    "\n",
    "# Assigning values to the range developed in CategoricalDuration"
   ]
  },
  {
   "cell_type": "code",
   "execution_count": 38,
   "metadata": {},
   "outputs": [
    {
     "data": {
      "text/html": [
       "<div>\n",
       "<style>\n",
       "    .dataframe thead tr:only-child th {\n",
       "        text-align: right;\n",
       "    }\n",
       "\n",
       "    .dataframe thead th {\n",
       "        text-align: left;\n",
       "    }\n",
       "\n",
       "    .dataframe tbody tr th {\n",
       "        vertical-align: top;\n",
       "    }\n",
       "</style>\n",
       "<table border=\"1\" class=\"dataframe\">\n",
       "  <thead>\n",
       "    <tr style=\"text-align: right;\">\n",
       "      <th></th>\n",
       "      <th>duration</th>\n",
       "      <th>y</th>\n",
       "    </tr>\n",
       "  </thead>\n",
       "  <tbody>\n",
       "    <tr>\n",
       "      <th>0</th>\n",
       "      <td>0</td>\n",
       "      <td>0.001821</td>\n",
       "    </tr>\n",
       "    <tr>\n",
       "      <th>1</th>\n",
       "      <td>1</td>\n",
       "      <td>0.020776</td>\n",
       "    </tr>\n",
       "    <tr>\n",
       "      <th>2</th>\n",
       "      <td>2</td>\n",
       "      <td>0.039638</td>\n",
       "    </tr>\n",
       "    <tr>\n",
       "      <th>3</th>\n",
       "      <td>3</td>\n",
       "      <td>0.073011</td>\n",
       "    </tr>\n",
       "    <tr>\n",
       "      <th>4</th>\n",
       "      <td>4</td>\n",
       "      <td>0.110655</td>\n",
       "    </tr>\n",
       "    <tr>\n",
       "      <th>5</th>\n",
       "      <td>5</td>\n",
       "      <td>0.152081</td>\n",
       "    </tr>\n",
       "    <tr>\n",
       "      <th>6</th>\n",
       "      <td>6</td>\n",
       "      <td>0.392681</td>\n",
       "    </tr>\n",
       "  </tbody>\n",
       "</table>\n",
       "</div>"
      ],
      "text/plain": [
       "   duration         y\n",
       "0         0  0.001821\n",
       "1         1  0.020776\n",
       "2         2  0.039638\n",
       "3         3  0.073011\n",
       "4         4  0.110655\n",
       "5         5  0.152081\n",
       "6         6  0.392681"
      ]
     },
     "execution_count": 38,
     "metadata": {},
     "output_type": "execute_result"
    }
   ],
   "source": [
    "TRAIN[[\"duration\", \"y\"]].groupby(['duration'], as_index=False).mean()\n",
    "\n",
    "# It can be clearly seen that higher duration calls produces positive output"
   ]
  },
  {
   "cell_type": "code",
   "execution_count": 44,
   "metadata": {},
   "outputs": [
    {
     "name": "stderr",
     "output_type": "stream",
     "text": [
      "C:\\Users\\prana\\AppData\\Local\\conda\\conda\\envs\\tfdeeplearning\\lib\\site-packages\\seaborn\\categorical.py:3666: UserWarning: The `factorplot` function has been renamed to `catplot`. The original name will be removed in a future release. Please update your code. Note that the default `kind` in `factorplot` (`'point'`) has changed `'strip'` in `catplot`.\n",
      "  warnings.warn(msg)\n"
     ]
    },
    {
     "data": {
      "text/plain": [
       "<matplotlib.text.Text at 0x2898b6abcf8>"
      ]
     },
     "execution_count": 44,
     "metadata": {},
     "output_type": "execute_result"
    },
    {
     "data": {
      "image/png": "[encoded data removed]",
      "text/plain": [
       "<matplotlib.figure.Figure at 0x2898774bda0>"
      ]
     },
     "metadata": {},
     "output_type": "display_data"
    }
   ],
   "source": [
    "sns.factorplot(data=TRAIN, x='duration', hue='y', kind='count')\n",
    "plt.subplots_adjust(bottom=0.5, top=0.9)\n",
    "plt.title('Call Duration vs Decision')"
   ]
  },
  {
   "cell_type": "markdown",
   "metadata": {},
   "source": [
    "# The number of times they have been contacted must also play a role, it must be converted into categories for better understanding"
   ]
  },
  {
   "cell_type": "code",
   "execution_count": 48,
   "metadata": {},
   "outputs": [
    {
     "data": {
      "text/plain": [
       "0    0\n",
       "1    0\n",
       "2    0\n",
       "3    0\n",
       "4    0\n",
       "Name: campaign, dtype: int32"
      ]
     },
     "execution_count": 48,
     "metadata": {},
     "output_type": "execute_result"
    }
   ],
   "source": [
    "TRAIN.loc[(TRAIN['campaign'] > -1) & (TRAIN['campaign'] <= 1), 'campaign'] = 0\n",
    "TRAIN.loc[(TRAIN['campaign'] > 1) & (TRAIN['campaign'] <= 2), 'campaign'] = 1\n",
    "TRAIN.loc[(TRAIN['campaign'] > 2) & (TRAIN['campaign'] <= 3), 'campaign'] = 2\n",
    "TRAIN.loc[(TRAIN['campaign'] > 3) & (TRAIN['campaign'] <= 4), 'campaign'] = 3\n",
    "TRAIN.loc[(TRAIN['campaign'] > 4) & (TRAIN['campaign'] <= 5), 'campaign'] = 4\n",
    "TRAIN.loc[(TRAIN['campaign'] > 5) & (TRAIN['campaign'] <= 6), 'campaign'] = 5\n",
    "TRAIN.loc[(TRAIN['campaign'] > 6) & (TRAIN['campaign'] <= 10), 'campaign'] = 6\n",
    "TRAIN.loc[(TRAIN['campaign'] > 10) & (TRAIN['campaign'] <= 20), 'campaign'] = 7\n",
    "TRAIN.loc[(TRAIN['campaign'] > 20) & (TRAIN['campaign'] <= 30), 'campaign'] = 8\n",
    "TRAIN.loc[ TRAIN['campaign'] > 30, 'campaign'] = 9\n",
    "TRAIN['campaign'] = TRAIN['campaign'].astype(int)\n",
    "TRAIN['campaign'].head()"
   ]
  },
  {
   "cell_type": "code",
   "execution_count": 49,
   "metadata": {},
   "outputs": [
    {
     "data": {
      "text/html": [
       "<div>\n",
       "<style>\n",
       "    .dataframe thead tr:only-child th {\n",
       "        text-align: right;\n",
       "    }\n",
       "\n",
       "    .dataframe thead th {\n",
       "        text-align: left;\n",
       "    }\n",
       "\n",
       "    .dataframe tbody tr th {\n",
       "        vertical-align: top;\n",
       "    }\n",
       "</style>\n",
       "<table border=\"1\" class=\"dataframe\">\n",
       "  <thead>\n",
       "    <tr style=\"text-align: right;\">\n",
       "      <th></th>\n",
       "      <th>campaign</th>\n",
       "      <th>y</th>\n",
       "    </tr>\n",
       "  </thead>\n",
       "  <tbody>\n",
       "    <tr>\n",
       "      <th>0</th>\n",
       "      <td>0</td>\n",
       "      <td>0.130371</td>\n",
       "    </tr>\n",
       "    <tr>\n",
       "      <th>1</th>\n",
       "      <td>1</td>\n",
       "      <td>0.114570</td>\n",
       "    </tr>\n",
       "    <tr>\n",
       "      <th>2</th>\n",
       "      <td>2</td>\n",
       "      <td>0.107471</td>\n",
       "    </tr>\n",
       "    <tr>\n",
       "      <th>3</th>\n",
       "      <td>3</td>\n",
       "      <td>0.093927</td>\n",
       "    </tr>\n",
       "    <tr>\n",
       "      <th>4</th>\n",
       "      <td>4</td>\n",
       "      <td>0.075047</td>\n",
       "    </tr>\n",
       "    <tr>\n",
       "      <th>5</th>\n",
       "      <td>5</td>\n",
       "      <td>0.076609</td>\n",
       "    </tr>\n",
       "    <tr>\n",
       "      <th>6</th>\n",
       "      <td>6</td>\n",
       "      <td>0.054652</td>\n",
       "    </tr>\n",
       "    <tr>\n",
       "      <th>7</th>\n",
       "      <td>7</td>\n",
       "      <td>0.036517</td>\n",
       "    </tr>\n",
       "    <tr>\n",
       "      <th>8</th>\n",
       "      <td>8</td>\n",
       "      <td>0.008065</td>\n",
       "    </tr>\n",
       "    <tr>\n",
       "      <th>9</th>\n",
       "      <td>9</td>\n",
       "      <td>0.000000</td>\n",
       "    </tr>\n",
       "  </tbody>\n",
       "</table>\n",
       "</div>"
      ],
      "text/plain": [
       "   campaign         y\n",
       "0         0  0.130371\n",
       "1         1  0.114570\n",
       "2         2  0.107471\n",
       "3         3  0.093927\n",
       "4         4  0.075047\n",
       "5         5  0.076609\n",
       "6         6  0.054652\n",
       "7         7  0.036517\n",
       "8         8  0.008065\n",
       "9         9  0.000000"
      ]
     },
     "execution_count": 49,
     "metadata": {},
     "output_type": "execute_result"
    }
   ],
   "source": [
    "TRAIN[[\"campaign\", \"y\"]].groupby(['campaign'], as_index=False).mean()\n",
    "\n",
    "# It can be observed that if a coustomer does not respond in first few attempts, its useless calling him further."
   ]
  },
  {
   "cell_type": "code",
   "execution_count": 55,
   "metadata": {},
   "outputs": [
    {
     "name": "stderr",
     "output_type": "stream",
     "text": [
      "C:\\Users\\prana\\AppData\\Local\\conda\\conda\\envs\\tfdeeplearning\\lib\\site-packages\\seaborn\\categorical.py:3666: UserWarning: The `factorplot` function has been renamed to `catplot`. The original name will be removed in a future release. Please update your code. Note that the default `kind` in `factorplot` (`'point'`) has changed `'strip'` in `catplot`.\n",
      "  warnings.warn(msg)\n"
     ]
    },
    {
     "data": {
      "text/plain": [
       "<matplotlib.text.Text at 0x28982e6b128>"
      ]
     },
     "execution_count": 55,
     "metadata": {},
     "output_type": "execute_result"
    },
    {
     "data": {
      "image/png": "[encoded data removed]",
      "text/plain": [
       "<matplotlib.figure.Figure at 0x2899295a240>"
      ]
     },
     "metadata": {},
     "output_type": "display_data"
    }
   ],
   "source": [
    "sns.factorplot(data=TRAIN, x='campaign', hue='y', kind='count')\n",
    "plt.subplots_adjust(bottom=0.3, top=0.9)\n",
    "plt.title('Campaign vs Decision')"
   ]
  },
  {
   "cell_type": "code",
   "execution_count": 56,
   "metadata": {
    "collapsed": true
   },
   "outputs": [],
   "source": [
    "TRAIN_corr=TRAIN.corr()\n",
    "# Finds out co-relation between the columns in the data"
   ]
  },
  {
   "cell_type": "code",
   "execution_count": 57,
   "metadata": {},
   "outputs": [
    {
     "data": {
      "text/plain": [
       "<matplotlib.axes._subplots.AxesSubplot at 0x2898f9abf60>"
      ]
     },
     "execution_count": 57,
     "metadata": {},
     "output_type": "execute_result"
    },
    {
     "data": {
      "image/png": "[encoded data removed]",
      "text/plain": [
       "<matplotlib.figure.Figure at 0x2898fdf7940>"
      ]
     },
     "metadata": {},
     "output_type": "display_data"
    }
   ],
   "source": [
    "sns.heatmap(TRAIN_corr)\n",
    "# Just to study heatmao to see the impact"
   ]
  },
  {
   "cell_type": "code",
   "execution_count": 58,
   "metadata": {},
   "outputs": [
    {
     "data": {
      "text/plain": [
       "age                0.030399\n",
       "month              0.031078\n",
       "duration           0.340339\n",
       "campaign          -0.071277\n",
       "pdays             -0.324914\n",
       "previous           0.230181\n",
       "emp.var.rate      -0.298334\n",
       "cons.price.idx    -0.136211\n",
       "cons.conf.idx      0.054878\n",
       "euribor3m         -0.307771\n",
       "nr.employed       -0.354678\n",
       "y                  1.000000\n",
       "campaign_before    0.324877\n",
       "job                0.025122\n",
       "marital            0.046203\n",
       "education          0.057799\n",
       "default           -0.099352\n",
       "housing            0.011552\n",
       "loan              -0.004909\n",
       "contact           -0.144773\n",
       "day_of_week        0.015967\n",
       "poutcome           0.129789\n",
       "Name: y, dtype: float64"
      ]
     },
     "execution_count": 58,
     "metadata": {},
     "output_type": "execute_result"
    }
   ],
   "source": [
    "TRAIN_corr[\"y\"]\n",
    "# Finding the impact of each column agains the target columns"
   ]
  },
  {
   "cell_type": "code",
   "execution_count": 59,
   "metadata": {},
   "outputs": [
    {
     "data": {
      "text/html": [
       "<div>\n",
       "<style>\n",
       "    .dataframe thead tr:only-child th {\n",
       "        text-align: right;\n",
       "    }\n",
       "\n",
       "    .dataframe thead th {\n",
       "        text-align: left;\n",
       "    }\n",
       "\n",
       "    .dataframe tbody tr th {\n",
       "        vertical-align: top;\n",
       "    }\n",
       "</style>\n",
       "<table border=\"1\" class=\"dataframe\">\n",
       "  <thead>\n",
       "    <tr style=\"text-align: right;\">\n",
       "      <th></th>\n",
       "      <th>age</th>\n",
       "      <th>month</th>\n",
       "      <th>duration</th>\n",
       "      <th>campaign</th>\n",
       "      <th>pdays</th>\n",
       "      <th>previous</th>\n",
       "      <th>emp.var.rate</th>\n",
       "      <th>cons.price.idx</th>\n",
       "      <th>cons.conf.idx</th>\n",
       "      <th>euribor3m</th>\n",
       "      <th>...</th>\n",
       "      <th>campaign_before</th>\n",
       "      <th>job</th>\n",
       "      <th>marital</th>\n",
       "      <th>education</th>\n",
       "      <th>default</th>\n",
       "      <th>housing</th>\n",
       "      <th>loan</th>\n",
       "      <th>contact</th>\n",
       "      <th>day_of_week</th>\n",
       "      <th>poutcome</th>\n",
       "    </tr>\n",
       "  </thead>\n",
       "  <tbody>\n",
       "    <tr>\n",
       "      <th>duration</th>\n",
       "      <td>0.006522</td>\n",
       "      <td>-0.034046</td>\n",
       "      <td>1.000000</td>\n",
       "      <td>-0.123628</td>\n",
       "      <td>-0.083546</td>\n",
       "      <td>0.054665</td>\n",
       "      <td>-0.061593</td>\n",
       "      <td>-0.001876</td>\n",
       "      <td>0.006899</td>\n",
       "      <td>-0.070331</td>\n",
       "      <td>...</td>\n",
       "      <td>0.083602</td>\n",
       "      <td>-0.004760</td>\n",
       "      <td>0.006323</td>\n",
       "      <td>-0.022122</td>\n",
       "      <td>-0.016585</td>\n",
       "      <td>-0.008818</td>\n",
       "      <td>-0.011858</td>\n",
       "      <td>-0.034147</td>\n",
       "      <td>0.037909</td>\n",
       "      <td>0.041227</td>\n",
       "    </tr>\n",
       "    <tr>\n",
       "      <th>previous</th>\n",
       "      <td>0.024365</td>\n",
       "      <td>0.053297</td>\n",
       "      <td>0.054665</td>\n",
       "      <td>-0.085786</td>\n",
       "      <td>-0.587514</td>\n",
       "      <td>1.000000</td>\n",
       "      <td>-0.420489</td>\n",
       "      <td>-0.203130</td>\n",
       "      <td>-0.050936</td>\n",
       "      <td>-0.454494</td>\n",
       "      <td>...</td>\n",
       "      <td>0.587462</td>\n",
       "      <td>0.020965</td>\n",
       "      <td>0.038689</td>\n",
       "      <td>0.038831</td>\n",
       "      <td>-0.102416</td>\n",
       "      <td>0.021314</td>\n",
       "      <td>-0.001327</td>\n",
       "      <td>-0.212848</td>\n",
       "      <td>-0.004102</td>\n",
       "      <td>-0.313110</td>\n",
       "    </tr>\n",
       "    <tr>\n",
       "      <th>cons.conf.idx</th>\n",
       "      <td>0.129372</td>\n",
       "      <td>0.195852</td>\n",
       "      <td>0.006899</td>\n",
       "      <td>-0.017357</td>\n",
       "      <td>-0.091342</td>\n",
       "      <td>-0.050936</td>\n",
       "      <td>0.196041</td>\n",
       "      <td>0.058986</td>\n",
       "      <td>1.000000</td>\n",
       "      <td>0.277686</td>\n",
       "      <td>...</td>\n",
       "      <td>0.091254</td>\n",
       "      <td>0.052760</td>\n",
       "      <td>-0.033783</td>\n",
       "      <td>0.078799</td>\n",
       "      <td>0.026522</td>\n",
       "      <td>-0.033845</td>\n",
       "      <td>-0.012025</td>\n",
       "      <td>0.251614</td>\n",
       "      <td>0.041465</td>\n",
       "      <td>0.178289</td>\n",
       "    </tr>\n",
       "    <tr>\n",
       "      <th>y</th>\n",
       "      <td>0.030399</td>\n",
       "      <td>0.031078</td>\n",
       "      <td>0.340339</td>\n",
       "      <td>-0.071277</td>\n",
       "      <td>-0.324914</td>\n",
       "      <td>0.230181</td>\n",
       "      <td>-0.298334</td>\n",
       "      <td>-0.136211</td>\n",
       "      <td>0.054878</td>\n",
       "      <td>-0.307771</td>\n",
       "      <td>...</td>\n",
       "      <td>0.324877</td>\n",
       "      <td>0.025122</td>\n",
       "      <td>0.046203</td>\n",
       "      <td>0.057799</td>\n",
       "      <td>-0.099352</td>\n",
       "      <td>0.011552</td>\n",
       "      <td>-0.004909</td>\n",
       "      <td>-0.144773</td>\n",
       "      <td>0.015967</td>\n",
       "      <td>0.129789</td>\n",
       "    </tr>\n",
       "    <tr>\n",
       "      <th>campaign_before</th>\n",
       "      <td>0.034292</td>\n",
       "      <td>0.063119</td>\n",
       "      <td>0.083602</td>\n",
       "      <td>-0.059949</td>\n",
       "      <td>-0.999992</td>\n",
       "      <td>0.587462</td>\n",
       "      <td>-0.270945</td>\n",
       "      <td>-0.078715</td>\n",
       "      <td>0.091254</td>\n",
       "      <td>-0.296920</td>\n",
       "      <td>...</td>\n",
       "      <td>1.000000</td>\n",
       "      <td>0.028466</td>\n",
       "      <td>0.037973</td>\n",
       "      <td>0.046610</td>\n",
       "      <td>-0.080066</td>\n",
       "      <td>0.010518</td>\n",
       "      <td>-0.000365</td>\n",
       "      <td>-0.117965</td>\n",
       "      <td>0.009507</td>\n",
       "      <td>0.475203</td>\n",
       "    </tr>\n",
       "    <tr>\n",
       "      <th>education</th>\n",
       "      <td>-0.117892</td>\n",
       "      <td>0.113522</td>\n",
       "      <td>-0.022122</td>\n",
       "      <td>0.002875</td>\n",
       "      <td>-0.046626</td>\n",
       "      <td>0.038831</td>\n",
       "      <td>-0.043778</td>\n",
       "      <td>-0.081607</td>\n",
       "      <td>0.078799</td>\n",
       "      <td>-0.036380</td>\n",
       "      <td>...</td>\n",
       "      <td>0.046610</td>\n",
       "      <td>0.134121</td>\n",
       "      <td>0.109220</td>\n",
       "      <td>1.000000</td>\n",
       "      <td>-0.186859</td>\n",
       "      <td>0.016825</td>\n",
       "      <td>0.006384</td>\n",
       "      <td>-0.105726</td>\n",
       "      <td>-0.017986</td>\n",
       "      <td>0.017009</td>\n",
       "    </tr>\n",
       "    <tr>\n",
       "      <th>poutcome</th>\n",
       "      <td>0.019750</td>\n",
       "      <td>0.018753</td>\n",
       "      <td>0.041227</td>\n",
       "      <td>0.032006</td>\n",
       "      <td>-0.475619</td>\n",
       "      <td>-0.313110</td>\n",
       "      <td>0.192972</td>\n",
       "      <td>0.211330</td>\n",
       "      <td>0.178289</td>\n",
       "      <td>0.184144</td>\n",
       "      <td>...</td>\n",
       "      <td>0.475203</td>\n",
       "      <td>0.011504</td>\n",
       "      <td>0.001912</td>\n",
       "      <td>0.017009</td>\n",
       "      <td>0.023417</td>\n",
       "      <td>-0.011783</td>\n",
       "      <td>-0.001511</td>\n",
       "      <td>0.118744</td>\n",
       "      <td>0.018732</td>\n",
       "      <td>1.000000</td>\n",
       "    </tr>\n",
       "  </tbody>\n",
       "</table>\n",
       "<p>7 rows × 22 columns</p>\n",
       "</div>"
      ],
      "text/plain": [
       "                      age     month  duration  campaign     pdays  previous  \\\n",
       "duration         0.006522 -0.034046  1.000000 -0.123628 -0.083546  0.054665   \n",
       "previous         0.024365  0.053297  0.054665 -0.085786 -0.587514  1.000000   \n",
       "cons.conf.idx    0.129372  0.195852  0.006899 -0.017357 -0.091342 -0.050936   \n",
       "y                0.030399  0.031078  0.340339 -0.071277 -0.324914  0.230181   \n",
       "campaign_before  0.034292  0.063119  0.083602 -0.059949 -0.999992  0.587462   \n",
       "education       -0.117892  0.113522 -0.022122  0.002875 -0.046626  0.038831   \n",
       "poutcome         0.019750  0.018753  0.041227  0.032006 -0.475619 -0.313110   \n",
       "\n",
       "                 emp.var.rate  cons.price.idx  cons.conf.idx  euribor3m  \\\n",
       "duration            -0.061593       -0.001876       0.006899  -0.070331   \n",
       "previous            -0.420489       -0.203130      -0.050936  -0.454494   \n",
       "cons.conf.idx        0.196041        0.058986       1.000000   0.277686   \n",
       "y                   -0.298334       -0.136211       0.054878  -0.307771   \n",
       "campaign_before     -0.270945       -0.078715       0.091254  -0.296920   \n",
       "education           -0.043778       -0.081607       0.078799  -0.036380   \n",
       "poutcome             0.192972        0.211330       0.178289   0.184144   \n",
       "\n",
       "                   ...     campaign_before       job   marital  education  \\\n",
       "duration           ...            0.083602 -0.004760  0.006323  -0.022122   \n",
       "previous           ...            0.587462  0.020965  0.038689   0.038831   \n",
       "cons.conf.idx      ...            0.091254  0.052760 -0.033783   0.078799   \n",
       "y                  ...            0.324877  0.025122  0.046203   0.057799   \n",
       "campaign_before    ...            1.000000  0.028466  0.037973   0.046610   \n",
       "education          ...            0.046610  0.134121  0.109220   1.000000   \n",
       "poutcome           ...            0.475203  0.011504  0.001912   0.017009   \n",
       "\n",
       "                  default   housing      loan   contact  day_of_week  poutcome  \n",
       "duration        -0.016585 -0.008818 -0.011858 -0.034147     0.037909  0.041227  \n",
       "previous        -0.102416  0.021314 -0.001327 -0.212848    -0.004102 -0.313110  \n",
       "cons.conf.idx    0.026522 -0.033845 -0.012025  0.251614     0.041465  0.178289  \n",
       "y               -0.099352  0.011552 -0.004909 -0.144773     0.015967  0.129789  \n",
       "campaign_before -0.080066  0.010518 -0.000365 -0.117965     0.009507  0.475203  \n",
       "education       -0.186859  0.016825  0.006384 -0.105726    -0.017986  0.017009  \n",
       "poutcome         0.023417 -0.011783 -0.001511  0.118744     0.018732  1.000000  \n",
       "\n",
       "[7 rows x 22 columns]"
      ]
     },
     "execution_count": 59,
     "metadata": {},
     "output_type": "execute_result"
    }
   ],
   "source": [
    "TRAIN_corr[(TRAIN_corr[\"y\"]>0.05) ]\n",
    "# Gives the complete data of relationships which are greater than 0.10 (Usually the value is chosen in between 0.3-0.5)"
   ]
  },
  {
   "cell_type": "code",
   "execution_count": 60,
   "metadata": {},
   "outputs": [
    {
     "data": {
      "text/html": [
       "<div>\n",
       "<style>\n",
       "    .dataframe thead tr:only-child th {\n",
       "        text-align: right;\n",
       "    }\n",
       "\n",
       "    .dataframe thead th {\n",
       "        text-align: left;\n",
       "    }\n",
       "\n",
       "    .dataframe tbody tr th {\n",
       "        vertical-align: top;\n",
       "    }\n",
       "</style>\n",
       "<table border=\"1\" class=\"dataframe\">\n",
       "  <thead>\n",
       "    <tr style=\"text-align: right;\">\n",
       "      <th></th>\n",
       "      <th>age</th>\n",
       "      <th>month</th>\n",
       "      <th>duration</th>\n",
       "      <th>campaign</th>\n",
       "      <th>pdays</th>\n",
       "      <th>previous</th>\n",
       "      <th>emp.var.rate</th>\n",
       "      <th>cons.price.idx</th>\n",
       "      <th>cons.conf.idx</th>\n",
       "      <th>euribor3m</th>\n",
       "      <th>...</th>\n",
       "      <th>campaign_before</th>\n",
       "      <th>job</th>\n",
       "      <th>marital</th>\n",
       "      <th>education</th>\n",
       "      <th>default</th>\n",
       "      <th>housing</th>\n",
       "      <th>loan</th>\n",
       "      <th>contact</th>\n",
       "      <th>day_of_week</th>\n",
       "      <th>poutcome</th>\n",
       "    </tr>\n",
       "  </thead>\n",
       "  <tbody>\n",
       "    <tr>\n",
       "      <th>campaign</th>\n",
       "      <td>0.001862</td>\n",
       "      <td>-0.035808</td>\n",
       "      <td>-0.123628</td>\n",
       "      <td>1.000000</td>\n",
       "      <td>0.059968</td>\n",
       "      <td>-0.085786</td>\n",
       "      <td>0.154887</td>\n",
       "      <td>0.121837</td>\n",
       "      <td>-0.017357</td>\n",
       "      <td>0.135999</td>\n",
       "      <td>...</td>\n",
       "      <td>-0.059949</td>\n",
       "      <td>-0.006696</td>\n",
       "      <td>-0.009641</td>\n",
       "      <td>0.002875</td>\n",
       "      <td>0.037624</td>\n",
       "      <td>-0.011275</td>\n",
       "      <td>0.010084</td>\n",
       "      <td>0.075904</td>\n",
       "      <td>-0.047979</td>\n",
       "      <td>0.032006</td>\n",
       "    </tr>\n",
       "    <tr>\n",
       "      <th>pdays</th>\n",
       "      <td>-0.034369</td>\n",
       "      <td>-0.063151</td>\n",
       "      <td>-0.083546</td>\n",
       "      <td>0.059968</td>\n",
       "      <td>1.000000</td>\n",
       "      <td>-0.587514</td>\n",
       "      <td>0.271004</td>\n",
       "      <td>0.078889</td>\n",
       "      <td>-0.091342</td>\n",
       "      <td>0.296899</td>\n",
       "      <td>...</td>\n",
       "      <td>-0.999992</td>\n",
       "      <td>-0.028468</td>\n",
       "      <td>-0.037942</td>\n",
       "      <td>-0.046626</td>\n",
       "      <td>0.080062</td>\n",
       "      <td>-0.010551</td>\n",
       "      <td>0.000345</td>\n",
       "      <td>0.117970</td>\n",
       "      <td>-0.009531</td>\n",
       "      <td>-0.475619</td>\n",
       "    </tr>\n",
       "    <tr>\n",
       "      <th>emp.var.rate</th>\n",
       "      <td>-0.000371</td>\n",
       "      <td>0.060038</td>\n",
       "      <td>-0.061593</td>\n",
       "      <td>0.154887</td>\n",
       "      <td>0.271004</td>\n",
       "      <td>-0.420489</td>\n",
       "      <td>1.000000</td>\n",
       "      <td>0.775334</td>\n",
       "      <td>0.196041</td>\n",
       "      <td>0.972245</td>\n",
       "      <td>...</td>\n",
       "      <td>-0.270945</td>\n",
       "      <td>-0.008271</td>\n",
       "      <td>-0.084210</td>\n",
       "      <td>-0.043778</td>\n",
       "      <td>0.203263</td>\n",
       "      <td>-0.060196</td>\n",
       "      <td>0.001849</td>\n",
       "      <td>0.393584</td>\n",
       "      <td>0.033245</td>\n",
       "      <td>0.192972</td>\n",
       "    </tr>\n",
       "    <tr>\n",
       "      <th>cons.price.idx</th>\n",
       "      <td>0.000857</td>\n",
       "      <td>-0.185649</td>\n",
       "      <td>-0.001876</td>\n",
       "      <td>0.121837</td>\n",
       "      <td>0.078889</td>\n",
       "      <td>-0.203130</td>\n",
       "      <td>0.775334</td>\n",
       "      <td>1.000000</td>\n",
       "      <td>0.058986</td>\n",
       "      <td>0.688230</td>\n",
       "      <td>...</td>\n",
       "      <td>-0.078715</td>\n",
       "      <td>-0.016017</td>\n",
       "      <td>-0.057477</td>\n",
       "      <td>-0.081607</td>\n",
       "      <td>0.168073</td>\n",
       "      <td>-0.080504</td>\n",
       "      <td>-0.002430</td>\n",
       "      <td>0.591474</td>\n",
       "      <td>0.005644</td>\n",
       "      <td>0.211330</td>\n",
       "    </tr>\n",
       "    <tr>\n",
       "      <th>euribor3m</th>\n",
       "      <td>0.010767</td>\n",
       "      <td>0.154953</td>\n",
       "      <td>-0.070331</td>\n",
       "      <td>0.135999</td>\n",
       "      <td>0.296899</td>\n",
       "      <td>-0.454494</td>\n",
       "      <td>0.972245</td>\n",
       "      <td>0.688230</td>\n",
       "      <td>0.277686</td>\n",
       "      <td>1.000000</td>\n",
       "      <td>...</td>\n",
       "      <td>-0.296920</td>\n",
       "      <td>-0.007880</td>\n",
       "      <td>-0.091939</td>\n",
       "      <td>-0.036380</td>\n",
       "      <td>0.195336</td>\n",
       "      <td>-0.059277</td>\n",
       "      <td>0.000125</td>\n",
       "      <td>0.399773</td>\n",
       "      <td>0.039043</td>\n",
       "      <td>0.184144</td>\n",
       "    </tr>\n",
       "    <tr>\n",
       "      <th>nr.employed</th>\n",
       "      <td>-0.017725</td>\n",
       "      <td>0.135454</td>\n",
       "      <td>-0.094336</td>\n",
       "      <td>0.148599</td>\n",
       "      <td>0.372605</td>\n",
       "      <td>-0.501333</td>\n",
       "      <td>0.906970</td>\n",
       "      <td>0.522034</td>\n",
       "      <td>0.100513</td>\n",
       "      <td>0.945154</td>\n",
       "      <td>...</td>\n",
       "      <td>-0.372682</td>\n",
       "      <td>-0.019574</td>\n",
       "      <td>-0.086199</td>\n",
       "      <td>-0.041492</td>\n",
       "      <td>0.189845</td>\n",
       "      <td>-0.045862</td>\n",
       "      <td>0.003903</td>\n",
       "      <td>0.269155</td>\n",
       "      <td>0.028380</td>\n",
       "      <td>0.119689</td>\n",
       "    </tr>\n",
       "    <tr>\n",
       "      <th>default</th>\n",
       "      <td>0.164965</td>\n",
       "      <td>-0.083790</td>\n",
       "      <td>-0.016585</td>\n",
       "      <td>0.037624</td>\n",
       "      <td>0.080062</td>\n",
       "      <td>-0.102416</td>\n",
       "      <td>0.203263</td>\n",
       "      <td>0.168073</td>\n",
       "      <td>0.026522</td>\n",
       "      <td>0.195336</td>\n",
       "      <td>...</td>\n",
       "      <td>-0.080066</td>\n",
       "      <td>-0.028277</td>\n",
       "      <td>-0.079450</td>\n",
       "      <td>-0.186859</td>\n",
       "      <td>1.000000</td>\n",
       "      <td>-0.015815</td>\n",
       "      <td>-0.003782</td>\n",
       "      <td>0.135238</td>\n",
       "      <td>-0.008701</td>\n",
       "      <td>0.023417</td>\n",
       "    </tr>\n",
       "    <tr>\n",
       "      <th>contact</th>\n",
       "      <td>0.007021</td>\n",
       "      <td>-0.417302</td>\n",
       "      <td>-0.034147</td>\n",
       "      <td>0.075904</td>\n",
       "      <td>0.117970</td>\n",
       "      <td>-0.212848</td>\n",
       "      <td>0.393584</td>\n",
       "      <td>0.591474</td>\n",
       "      <td>0.251614</td>\n",
       "      <td>0.399773</td>\n",
       "      <td>...</td>\n",
       "      <td>-0.117965</td>\n",
       "      <td>-0.025132</td>\n",
       "      <td>-0.054501</td>\n",
       "      <td>-0.105726</td>\n",
       "      <td>0.135238</td>\n",
       "      <td>-0.082186</td>\n",
       "      <td>-0.008556</td>\n",
       "      <td>1.000000</td>\n",
       "      <td>-0.009575</td>\n",
       "      <td>0.118744</td>\n",
       "    </tr>\n",
       "  </tbody>\n",
       "</table>\n",
       "<p>8 rows × 22 columns</p>\n",
       "</div>"
      ],
      "text/plain": [
       "                     age     month  duration  campaign     pdays  previous  \\\n",
       "campaign        0.001862 -0.035808 -0.123628  1.000000  0.059968 -0.085786   \n",
       "pdays          -0.034369 -0.063151 -0.083546  0.059968  1.000000 -0.587514   \n",
       "emp.var.rate   -0.000371  0.060038 -0.061593  0.154887  0.271004 -0.420489   \n",
       "cons.price.idx  0.000857 -0.185649 -0.001876  0.121837  0.078889 -0.203130   \n",
       "euribor3m       0.010767  0.154953 -0.070331  0.135999  0.296899 -0.454494   \n",
       "nr.employed    -0.017725  0.135454 -0.094336  0.148599  0.372605 -0.501333   \n",
       "default         0.164965 -0.083790 -0.016585  0.037624  0.080062 -0.102416   \n",
       "contact         0.007021 -0.417302 -0.034147  0.075904  0.117970 -0.212848   \n",
       "\n",
       "                emp.var.rate  cons.price.idx  cons.conf.idx  euribor3m  \\\n",
       "campaign            0.154887        0.121837      -0.017357   0.135999   \n",
       "pdays               0.271004        0.078889      -0.091342   0.296899   \n",
       "emp.var.rate        1.000000        0.775334       0.196041   0.972245   \n",
       "cons.price.idx      0.775334        1.000000       0.058986   0.688230   \n",
       "euribor3m           0.972245        0.688230       0.277686   1.000000   \n",
       "nr.employed         0.906970        0.522034       0.100513   0.945154   \n",
       "default             0.203263        0.168073       0.026522   0.195336   \n",
       "contact             0.393584        0.591474       0.251614   0.399773   \n",
       "\n",
       "                  ...     campaign_before       job   marital  education  \\\n",
       "campaign          ...           -0.059949 -0.006696 -0.009641   0.002875   \n",
       "pdays             ...           -0.999992 -0.028468 -0.037942  -0.046626   \n",
       "emp.var.rate      ...           -0.270945 -0.008271 -0.084210  -0.043778   \n",
       "cons.price.idx    ...           -0.078715 -0.016017 -0.057477  -0.081607   \n",
       "euribor3m         ...           -0.296920 -0.007880 -0.091939  -0.036380   \n",
       "nr.employed       ...           -0.372682 -0.019574 -0.086199  -0.041492   \n",
       "default           ...           -0.080066 -0.028277 -0.079450  -0.186859   \n",
       "contact           ...           -0.117965 -0.025132 -0.054501  -0.105726   \n",
       "\n",
       "                 default   housing      loan   contact  day_of_week  poutcome  \n",
       "campaign        0.037624 -0.011275  0.010084  0.075904    -0.047979  0.032006  \n",
       "pdays           0.080062 -0.010551  0.000345  0.117970    -0.009531 -0.475619  \n",
       "emp.var.rate    0.203263 -0.060196  0.001849  0.393584     0.033245  0.192972  \n",
       "cons.price.idx  0.168073 -0.080504 -0.002430  0.591474     0.005644  0.211330  \n",
       "euribor3m       0.195336 -0.059277  0.000125  0.399773     0.039043  0.184144  \n",
       "nr.employed     0.189845 -0.045862  0.003903  0.269155     0.028380  0.119689  \n",
       "default         1.000000 -0.015815 -0.003782  0.135238    -0.008701  0.023417  \n",
       "contact         0.135238 -0.082186 -0.008556  1.000000    -0.009575  0.118744  \n",
       "\n",
       "[8 rows x 22 columns]"
      ]
     },
     "execution_count": 60,
     "metadata": {},
     "output_type": "execute_result"
    }
   ],
   "source": [
    "TRAIN_corr[(TRAIN_corr[\"y\"]<-0.05) ]\n",
    "# Gives the complete data of relationships which are lesser than -0.1 "
   ]
  },
  {
   "cell_type": "code",
   "execution_count": 61,
   "metadata": {},
   "outputs": [
    {
     "data": {
      "text/plain": [
       "array(['duration', 'previous', 'y', 'campaign_before', 'poutcome'], dtype=object)"
      ]
     },
     "execution_count": 61,
     "metadata": {},
     "output_type": "execute_result"
    }
   ],
   "source": [
    "TRAIN_corr[(TRAIN_corr[\"y\"]>0.1) ].index.values"
   ]
  },
  {
   "cell_type": "code",
   "execution_count": 62,
   "metadata": {},
   "outputs": [
    {
     "data": {
      "text/plain": [
       "array(['pdays', 'emp.var.rate', 'cons.price.idx', 'euribor3m',\n",
       "       'nr.employed', 'contact'], dtype=object)"
      ]
     },
     "execution_count": 62,
     "metadata": {},
     "output_type": "execute_result"
    }
   ],
   "source": [
    "TRAIN_corr[(TRAIN_corr[\"y\"]<-0.1) ].index.values"
   ]
  },
  {
   "cell_type": "code",
   "execution_count": 63,
   "metadata": {
    "collapsed": true
   },
   "outputs": [],
   "source": [
    "TRAIN_cols = []\n",
    "TRAIN_cols.extend(TRAIN_corr[(TRAIN_corr[\"y\"]>0.1) ].index.values)\n",
    "TRAIN_cols.extend(TRAIN_corr[(TRAIN_corr[\"y\"]<-0.1) ].index.values)\n",
    "\n",
    "\n",
    "# Created a Data Frame TRAIN_cols and imported index values which have high impact on response"
   ]
  },
  {
   "cell_type": "code",
   "execution_count": 64,
   "metadata": {},
   "outputs": [
    {
     "data": {
      "text/html": [
       "<div>\n",
       "<style>\n",
       "    .dataframe thead tr:only-child th {\n",
       "        text-align: right;\n",
       "    }\n",
       "\n",
       "    .dataframe thead th {\n",
       "        text-align: left;\n",
       "    }\n",
       "\n",
       "    .dataframe tbody tr th {\n",
       "        vertical-align: top;\n",
       "    }\n",
       "</style>\n",
       "<table border=\"1\" class=\"dataframe\">\n",
       "  <thead>\n",
       "    <tr style=\"text-align: right;\">\n",
       "      <th></th>\n",
       "      <th>duration</th>\n",
       "      <th>previous</th>\n",
       "      <th>y</th>\n",
       "      <th>campaign_before</th>\n",
       "      <th>poutcome</th>\n",
       "      <th>pdays</th>\n",
       "      <th>emp.var.rate</th>\n",
       "      <th>cons.price.idx</th>\n",
       "      <th>euribor3m</th>\n",
       "      <th>nr.employed</th>\n",
       "      <th>contact</th>\n",
       "    </tr>\n",
       "  </thead>\n",
       "  <tbody>\n",
       "    <tr>\n",
       "      <th>0</th>\n",
       "      <td>4</td>\n",
       "      <td>0</td>\n",
       "      <td>0</td>\n",
       "      <td>0</td>\n",
       "      <td>1</td>\n",
       "      <td>999</td>\n",
       "      <td>1.1</td>\n",
       "      <td>93.994</td>\n",
       "      <td>4.857</td>\n",
       "      <td>5191.0</td>\n",
       "      <td>1</td>\n",
       "    </tr>\n",
       "    <tr>\n",
       "      <th>1</th>\n",
       "      <td>2</td>\n",
       "      <td>0</td>\n",
       "      <td>0</td>\n",
       "      <td>0</td>\n",
       "      <td>1</td>\n",
       "      <td>999</td>\n",
       "      <td>1.1</td>\n",
       "      <td>93.994</td>\n",
       "      <td>4.857</td>\n",
       "      <td>5191.0</td>\n",
       "      <td>1</td>\n",
       "    </tr>\n",
       "    <tr>\n",
       "      <th>2</th>\n",
       "      <td>4</td>\n",
       "      <td>0</td>\n",
       "      <td>0</td>\n",
       "      <td>0</td>\n",
       "      <td>1</td>\n",
       "      <td>999</td>\n",
       "      <td>1.1</td>\n",
       "      <td>93.994</td>\n",
       "      <td>4.857</td>\n",
       "      <td>5191.0</td>\n",
       "      <td>1</td>\n",
       "    </tr>\n",
       "    <tr>\n",
       "      <th>3</th>\n",
       "      <td>2</td>\n",
       "      <td>0</td>\n",
       "      <td>0</td>\n",
       "      <td>0</td>\n",
       "      <td>1</td>\n",
       "      <td>999</td>\n",
       "      <td>1.1</td>\n",
       "      <td>93.994</td>\n",
       "      <td>4.857</td>\n",
       "      <td>5191.0</td>\n",
       "      <td>1</td>\n",
       "    </tr>\n",
       "    <tr>\n",
       "      <th>4</th>\n",
       "      <td>5</td>\n",
       "      <td>0</td>\n",
       "      <td>0</td>\n",
       "      <td>0</td>\n",
       "      <td>1</td>\n",
       "      <td>999</td>\n",
       "      <td>1.1</td>\n",
       "      <td>93.994</td>\n",
       "      <td>4.857</td>\n",
       "      <td>5191.0</td>\n",
       "      <td>1</td>\n",
       "    </tr>\n",
       "  </tbody>\n",
       "</table>\n",
       "</div>"
      ],
      "text/plain": [
       "   duration  previous  y  campaign_before  poutcome  pdays  emp.var.rate  \\\n",
       "0         4         0  0                0         1    999           1.1   \n",
       "1         2         0  0                0         1    999           1.1   \n",
       "2         4         0  0                0         1    999           1.1   \n",
       "3         2         0  0                0         1    999           1.1   \n",
       "4         5         0  0                0         1    999           1.1   \n",
       "\n",
       "   cons.price.idx  euribor3m  nr.employed  contact  \n",
       "0          93.994      4.857       5191.0        1  \n",
       "1          93.994      4.857       5191.0        1  \n",
       "2          93.994      4.857       5191.0        1  \n",
       "3          93.994      4.857       5191.0        1  \n",
       "4          93.994      4.857       5191.0        1  "
      ]
     },
     "execution_count": 64,
     "metadata": {},
     "output_type": "execute_result"
    }
   ],
   "source": [
    "TrainingDATA=TRAIN[TRAIN_cols]\n",
    "TrainingDATA.head()"
   ]
  },
  {
   "cell_type": "code",
   "execution_count": 35,
   "metadata": {
    "collapsed": true
   },
   "outputs": [],
   "source": [
    "# Since the Data is IMBALANCED, we can go for any of the sampling techniques such as upsampling (or etc) to balance the data\n",
    "# Here we have used available data only to build a model"
   ]
  },
  {
   "cell_type": "markdown",
   "metadata": {},
   "source": [
    "# Splitting Train File into Training Dataset and Testing Dataset to Build Models"
   ]
  },
  {
   "cell_type": "code",
   "execution_count": 67,
   "metadata": {
    "collapsed": true
   },
   "outputs": [],
   "source": [
    "from sklearn.model_selection import train_test_split"
   ]
  },
  {
   "cell_type": "code",
   "execution_count": 68,
   "metadata": {
    "collapsed": true
   },
   "outputs": [],
   "source": [
    "XX=TrainingDATA.drop([\"y\"],axis=1)\n",
    "YY=TrainingDATA[\"y\"]"
   ]
  },
  {
   "cell_type": "code",
   "execution_count": 69,
   "metadata": {},
   "outputs": [
    {
     "name": "stdout",
     "output_type": "stream",
     "text": [
      "(28831, 10)\n",
      "(12357, 10)\n",
      "(28831,)\n",
      "(12357,)\n"
     ]
    }
   ],
   "source": [
    "X_train, X_test, y_train, y_test = train_test_split(XX, YY, test_size=0.3)\n",
    "\n",
    "print(X_train.shape)\n",
    "print(X_test.shape)\n",
    "print(y_train.shape)\n",
    "print(y_test.shape)\n",
    "\n",
    "#X_Train will consist of 70% data and X Test will Consist of 30% data for Testing\n",
    "# X = all the columns except output(Salesprice)\n",
    "# Y = only SalesPrice that has to be predicted"
   ]
  },
  {
   "cell_type": "markdown",
   "metadata": {},
   "source": [
    "# Logistic Regression"
   ]
  },
  {
   "cell_type": "code",
   "execution_count": 70,
   "metadata": {
    "collapsed": true
   },
   "outputs": [],
   "source": [
    "from sklearn.linear_model import LogisticRegression\n",
    "LRC=LogisticRegression()"
   ]
  },
  {
   "cell_type": "code",
   "execution_count": 71,
   "metadata": {
    "collapsed": true
   },
   "outputs": [],
   "source": [
    "LRC_M=LRC.fit(X_train,y_train)"
   ]
  },
  {
   "cell_type": "code",
   "execution_count": 72,
   "metadata": {},
   "outputs": [
    {
     "data": {
      "text/plain": [
       "0.91124137213416112"
      ]
     },
     "execution_count": 72,
     "metadata": {},
     "output_type": "execute_result"
    }
   ],
   "source": [
    "LRC_M.score(X_train,y_train)"
   ]
  },
  {
   "cell_type": "markdown",
   "metadata": {},
   "source": [
    "# Decision Tree Classifier"
   ]
  },
  {
   "cell_type": "code",
   "execution_count": 73,
   "metadata": {
    "collapsed": true
   },
   "outputs": [],
   "source": [
    "from sklearn.tree import DecisionTreeClassifier\n",
    "DTC=DecisionTreeClassifier()"
   ]
  },
  {
   "cell_type": "code",
   "execution_count": 74,
   "metadata": {
    "collapsed": true
   },
   "outputs": [],
   "source": [
    "DTC_M=DTC.fit(X_train,y_train)"
   ]
  },
  {
   "cell_type": "code",
   "execution_count": 75,
   "metadata": {},
   "outputs": [
    {
     "data": {
      "text/plain": [
       "0.94155596406645625"
      ]
     },
     "execution_count": 75,
     "metadata": {},
     "output_type": "execute_result"
    }
   ],
   "source": [
    "DTC_M.score(X_train,y_train)"
   ]
  },
  {
   "cell_type": "markdown",
   "metadata": {},
   "source": [
    "# Random Forest Classifier"
   ]
  },
  {
   "cell_type": "code",
   "execution_count": 76,
   "metadata": {
    "collapsed": true
   },
   "outputs": [],
   "source": [
    "from sklearn.ensemble import RandomForestClassifier\n",
    "RFC=RandomForestClassifier(criterion='gini')"
   ]
  },
  {
   "cell_type": "code",
   "execution_count": 77,
   "metadata": {
    "collapsed": true
   },
   "outputs": [],
   "source": [
    "RFC_M=RFC.fit(X_train,y_train)"
   ]
  },
  {
   "cell_type": "code",
   "execution_count": 47,
   "metadata": {},
   "outputs": [
    {
     "data": {
      "text/plain": [
       "0.93590232735597101"
      ]
     },
     "execution_count": 47,
     "metadata": {},
     "output_type": "execute_result"
    }
   ],
   "source": [
    "RFC_M.score(X_train,y_train)"
   ]
  },
  {
   "cell_type": "markdown",
   "metadata": {},
   "source": [
    "# Support Vector Machine"
   ]
  },
  {
   "cell_type": "code",
   "execution_count": 48,
   "metadata": {
    "collapsed": true
   },
   "outputs": [],
   "source": [
    "from sklearn import svm\n",
    "SVM = svm.SVC(kernel='linear', C=1, gamma=1)"
   ]
  },
  {
   "cell_type": "code",
   "execution_count": 49,
   "metadata": {
    "collapsed": true
   },
   "outputs": [],
   "source": [
    "#SVM_M=SVM.fit(X_train,y_train)"
   ]
  },
  {
   "cell_type": "code",
   "execution_count": 50,
   "metadata": {
    "collapsed": true
   },
   "outputs": [],
   "source": [
    "#SVM_M.score(X_train, y_train)"
   ]
  },
  {
   "cell_type": "markdown",
   "metadata": {},
   "source": [
    "# K Nearest Neighbour"
   ]
  },
  {
   "cell_type": "code",
   "execution_count": 78,
   "metadata": {
    "collapsed": true
   },
   "outputs": [],
   "source": [
    "from sklearn.neighbors import KNeighborsClassifier\n",
    "KNN = KNeighborsClassifier(n_neighbors=5)"
   ]
  },
  {
   "cell_type": "code",
   "execution_count": 79,
   "metadata": {
    "collapsed": true
   },
   "outputs": [],
   "source": [
    "KNN_M=KNN.fit(X_train, y_train)"
   ]
  },
  {
   "cell_type": "code",
   "execution_count": 80,
   "metadata": {},
   "outputs": [
    {
     "data": {
      "text/plain": [
       "0.91994727897055251"
      ]
     },
     "execution_count": 80,
     "metadata": {},
     "output_type": "execute_result"
    }
   ],
   "source": [
    "KNN_M.score(X_train,y_train)"
   ]
  },
  {
   "cell_type": "markdown",
   "metadata": {},
   "source": [
    "# Gradient Boost Classifier"
   ]
  },
  {
   "cell_type": "code",
   "execution_count": 81,
   "metadata": {
    "collapsed": true
   },
   "outputs": [],
   "source": [
    "from sklearn.ensemble import GradientBoostingClassifier\n",
    "GBC=GradientBoostingClassifier()"
   ]
  },
  {
   "cell_type": "code",
   "execution_count": 82,
   "metadata": {
    "collapsed": true
   },
   "outputs": [],
   "source": [
    "GBC_M=GBC.fit(X_train,y_train)"
   ]
  },
  {
   "cell_type": "code",
   "execution_count": 83,
   "metadata": {},
   "outputs": [
    {
     "data": {
      "text/plain": [
       "0.91623599597655303"
      ]
     },
     "execution_count": 83,
     "metadata": {},
     "output_type": "execute_result"
    }
   ],
   "source": [
    "GBC_M.score(X_train,y_train)"
   ]
  },
  {
   "cell_type": "markdown",
   "metadata": {},
   "source": [
    "# Test Scores of Model Built"
   ]
  },
  {
   "cell_type": "code",
   "execution_count": 84,
   "metadata": {
    "collapsed": true
   },
   "outputs": [],
   "source": [
    "from sklearn.metrics import accuracy_score"
   ]
  },
  {
   "cell_type": "code",
   "execution_count": 85,
   "metadata": {
    "collapsed": true
   },
   "outputs": [],
   "source": [
    "LRC_pred = LRC_M.predict(X_test)\n",
    "DTC_pred = DTC_M.predict(X_test)\n",
    "RFC_pred = RFC_M.predict(X_test)\n",
    "#SVM_pred = SVM_M.predict(X_test)\n",
    "KNN_pred = KNN_M.predict(X_test)\n",
    "GBC_pred = GBC_M.predict(X_test)"
   ]
  },
  {
   "cell_type": "code",
   "execution_count": 86,
   "metadata": {},
   "outputs": [
    {
     "data": {
      "text/plain": [
       "90.15942380836772"
      ]
     },
     "execution_count": 86,
     "metadata": {},
     "output_type": "execute_result"
    }
   ],
   "source": [
    "accuracy_score(y_test,LRC_pred)*100"
   ]
  },
  {
   "cell_type": "code",
   "execution_count": 87,
   "metadata": {},
   "outputs": [
    {
     "data": {
      "text/plain": [
       "89.414906530711335"
      ]
     },
     "execution_count": 87,
     "metadata": {},
     "output_type": "execute_result"
    }
   ],
   "source": [
    "accuracy_score(y_test,DTC_pred)*100"
   ]
  },
  {
   "cell_type": "code",
   "execution_count": 88,
   "metadata": {},
   "outputs": [
    {
     "data": {
      "text/plain": [
       "89.746702274014737"
      ]
     },
     "execution_count": 88,
     "metadata": {},
     "output_type": "execute_result"
    }
   ],
   "source": [
    "accuracy_score(y_test,RFC_pred)*100"
   ]
  },
  {
   "cell_type": "code",
   "execution_count": 89,
   "metadata": {
    "collapsed": true
   },
   "outputs": [],
   "source": [
    "#accuracy_score(y_test,SVM_pred)*100"
   ]
  },
  {
   "cell_type": "code",
   "execution_count": 90,
   "metadata": {},
   "outputs": [
    {
     "data": {
      "text/plain": [
       "89.698146799384958"
      ]
     },
     "execution_count": 90,
     "metadata": {},
     "output_type": "execute_result"
    }
   ],
   "source": [
    "accuracy_score(y_test,KNN_pred)*100"
   ]
  },
  {
   "cell_type": "code",
   "execution_count": 91,
   "metadata": {},
   "outputs": [
    {
     "data": {
      "text/plain": [
       "90.564052763615763"
      ]
     },
     "execution_count": 91,
     "metadata": {},
     "output_type": "execute_result"
    }
   ],
   "source": [
    "accuracy_score(y_test,GBC_pred)*100"
   ]
  },
  {
   "cell_type": "markdown",
   "metadata": {},
   "source": [
    "# K FOLD CROSS VALIDATION (with different splits and algorithms having both model and test scores)"
   ]
  },
  {
   "cell_type": "code",
   "execution_count": 99,
   "metadata": {
    "collapsed": true
   },
   "outputs": [],
   "source": [
    "from sklearn.model_selection import KFold"
   ]
  },
  {
   "cell_type": "code",
   "execution_count": 100,
   "metadata": {},
   "outputs": [],
   "source": [
    "algo_dict = {\"LR\":LRC,\"DT\":DTC,\"GBM\":GBC,\"RF\":RFC,\"KN\":KNN}\n",
    "algo_train_scores={}\n",
    "algo_test_scores={}"
   ]
  },
  {
   "cell_type": "code",
   "execution_count": 113,
   "metadata": {
    "collapsed": true
   },
   "outputs": [],
   "source": [
    "# Function to run multiple algorithms with different K values of KFold.\n",
    "\n",
    "def train_test_evaluate_with_kFold(train_data,kmax,algo):\n",
    "    test_scores={}\n",
    "    train_scores={}\n",
    "    \n",
    "    for k in range (2,kmax,1):\n",
    "        kf = KFold(n_splits=k)\n",
    "        sum_train = 0\n",
    "        sum_test = 0\n",
    "        \n",
    "        #data = housetraindf1\n",
    "        data = train_data\n",
    "        \n",
    "        for train, test in kf.split(data):\n",
    "            \n",
    "            #train_data = np.array(data)[train]\n",
    "            #test_data = np.array(data)[test]\n",
    "            train_data = data.iloc[train,:]\n",
    "            test_data = data.iloc[test,:]\n",
    "            x_train = train_data.drop([\"y\"],axis=1)\n",
    "            y_train = train_data[\"y\"]\n",
    "            x_test = test_data.drop([\"y\"],axis=1)\n",
    "            y_test = test_data[\"y\"]\n",
    "             # Train/Test Splitting\n",
    "            \n",
    "            algo_model = algo.fit(x_train,y_train)\n",
    "            sum_train += algo_model.score(x_train,y_train)\n",
    "            # Applying Algorithm to the training model \n",
    "\n",
    "            y_pred = algo_model.predict(x_test)\n",
    "            sum_test += accuracy_score(y_test,y_pred)\n",
    "            # Predicting test scores\n",
    "        \n",
    "        average_test = sum_test/k\n",
    "        average_train = sum_train/k\n",
    "        # Taking avg of train and test score for each K value\n",
    "\n",
    "        test_scores[k] = average_test\n",
    "        train_scores[k] = average_train\n",
    "        print(\"kvalue: \",k)\n",
    "        \n",
    "    return (train_scores,test_scores)"
   ]
  },
  {
   "cell_type": "code",
   "execution_count": 114,
   "metadata": {},
   "outputs": [
    {
     "name": "stdout",
     "output_type": "stream",
     "text": [
      "LR\n",
      "kvalue:  2\n",
      "kvalue:  3\n",
      "kvalue:  4\n",
      "kvalue:  5\n",
      "kvalue:  6\n",
      "kvalue:  7\n",
      "kvalue:  8\n",
      "kvalue:  9\n",
      "kvalue:  10\n",
      "kvalue:  11\n",
      "kvalue:  12\n",
      "kvalue:  13\n",
      "kvalue:  14\n",
      "kvalue:  15\n",
      "kvalue:  16\n",
      "kvalue:  17\n",
      "kvalue:  18\n",
      "kvalue:  19\n",
      "kvalue:  20\n",
      "GBM\n",
      "kvalue:  2\n",
      "kvalue:  3\n",
      "kvalue:  4\n",
      "kvalue:  5\n",
      "kvalue:  6\n",
      "kvalue:  7\n",
      "kvalue:  8\n",
      "kvalue:  9\n",
      "kvalue:  10\n",
      "kvalue:  11\n",
      "kvalue:  12\n",
      "kvalue:  13\n",
      "kvalue:  14\n",
      "kvalue:  15\n",
      "kvalue:  16\n",
      "kvalue:  17\n",
      "kvalue:  18\n",
      "kvalue:  19\n",
      "kvalue:  20\n",
      "KN\n",
      "kvalue:  2\n",
      "kvalue:  3\n",
      "kvalue:  4\n",
      "kvalue:  5\n",
      "kvalue:  6\n",
      "kvalue:  7\n",
      "kvalue:  8\n",
      "kvalue:  9\n",
      "kvalue:  10\n",
      "kvalue:  11\n",
      "kvalue:  12\n",
      "kvalue:  13\n",
      "kvalue:  14\n",
      "kvalue:  15\n",
      "kvalue:  16\n",
      "kvalue:  17\n",
      "kvalue:  18\n",
      "kvalue:  19\n",
      "kvalue:  20\n",
      "DT\n",
      "kvalue:  2\n",
      "kvalue:  3\n",
      "kvalue:  4\n",
      "kvalue:  5\n",
      "kvalue:  6\n",
      "kvalue:  7\n",
      "kvalue:  8\n",
      "kvalue:  9\n",
      "kvalue:  10\n",
      "kvalue:  11\n",
      "kvalue:  12\n",
      "kvalue:  13\n",
      "kvalue:  14\n",
      "kvalue:  15\n",
      "kvalue:  16\n",
      "kvalue:  17\n",
      "kvalue:  18\n",
      "kvalue:  19\n",
      "kvalue:  20\n",
      "RF\n",
      "kvalue:  2\n",
      "kvalue:  3\n",
      "kvalue:  4\n",
      "kvalue:  5\n",
      "kvalue:  6\n",
      "kvalue:  7\n",
      "kvalue:  8\n",
      "kvalue:  9\n",
      "kvalue:  10\n",
      "kvalue:  11\n",
      "kvalue:  12\n",
      "kvalue:  13\n",
      "kvalue:  14\n",
      "kvalue:  15\n",
      "kvalue:  16\n",
      "kvalue:  17\n",
      "kvalue:  18\n",
      "kvalue:  19\n",
      "kvalue:  20\n",
      "{'LR': {2: 0.90742449257065161, 3: 0.95323858101514902, 4: 0.96256359694467974, 5: 0.96591563033966943, 6: 0.96856408887730971, 7: 0.97072532835201109, 8: 0.9700984962859508, 9: 0.97049109401171363, 10: 0.97248307829355574, 11: 0.97234344508043935, 12: 0.97198498050439464, 13: 0.97497083879795177, 14: 0.97667085886979432, 15: 0.97589946757498602, 16: 0.97636359954830021, 17: 0.97712291857603994, 18: 0.97693570925567341, 19: 0.97907586736228303, 20: 0.97884083126088473}, 'GBM': {2: 0.91446537826551422, 3: 0.95365133261152646, 4: 0.96261215006178991, 5: 0.96610984634481833, 6: 0.96856408887730971, 7: 0.97072532835201109, 8: 0.9700984962859508, 9: 0.97049109401171363, 10: 0.97248307829355574, 11: 0.97234344508043935, 12: 0.97198498050439464, 13: 0.97497083879795177, 14: 0.97667085886979432, 15: 0.97589946757498602, 16: 0.97636359954830021, 17: 0.97712291857603994, 18: 0.97693570925567341, 19: 0.97907586736228303, 20: 0.97884083126088473}, 'KN': {2: 0.91242594930562304, 3: 0.94789723123626135, 4: 0.95714950944329602, 5: 0.95576801645169573, 6: 0.96856408887730971, 7: 0.96070009551961022, 8: 0.96660367578733875, 9: 0.96898631269041879, 10: 0.95763303800924504, 11: 0.96606011564531213, 12: 0.96742458197276415, 13: 0.9675963148671366, 14: 0.97344505241818147, 15: 0.96755913004177818, 16: 0.97258210561764158, 17: 0.97297890734278614, 18: 0.97577274952315407, 19: 0.97779217031478627, 20: 0.97060901860867399}, 'DT': {2: 0.93677770224337187, 3: 0.95374845063420344, 4: 0.96261215006178991, 5: 0.96610984634481833, 6: 0.96856408887730971, 7: 0.97072532835201109, 8: 0.9700984962859508, 9: 0.97049109401171363, 10: 0.97248307829355574, 11: 0.97234344508043935, 12: 0.97198498050439464, 13: 0.97497083879795177, 14: 0.97667085886979432, 15: 0.97589946757498602, 16: 0.97636359954830021, 17: 0.97712291857603994, 18: 0.97693570925567341, 19: 0.97907586736228303, 20: 0.97884083126088473}, 'RF': {2: 0.93505389919394, 3: 0.95367561211719565, 4: 0.96258787114560063, 5: 0.96610984634481833, 6: 0.96853981113999499, 7: 0.97072532835201109, 8: 0.9700984962859508, 9: 0.97049109401171363, 10: 0.97248307829355574, 11: 0.97234344508043935, 12: 0.97198498050439464, 13: 0.97497083879795177, 14: 0.97667085886979432, 15: 0.97589946757498602, 16: 0.97636359954830021, 17: 0.97712291857603994, 18: 0.97693570925567341, 19: 0.97907586736228303, 20: 0.97884083126088473}}\n",
      "------------------------------------------------------------\n",
      "{'LR': {2: 0.89751869476546564, 3: 0.95323790173571676, 4: 0.96256254001848229, 5: 0.96591440844598897, 6: 0.96856271554443085, 7: 0.97072586133623395, 8: 0.97009644890564939, 9: 0.97048651368023087, 10: 0.9724833497367491, 11: 0.97233576405768929, 12: 0.97197560825755713, 13: 0.97496261600035194, 14: 0.97666896862834662, 15: 0.97588832487309629, 16: 0.97635531415748666, 17: 0.97712361347466847, 18: 0.9769240218659786, 19: 0.97908148470349443, 20: 0.97883537206931714}, 'GBM': {2: 0.59619306594153643, 3: 0.95323790173571676, 4: 0.96059575680169917, 5: 0.96591440844598897, 6: 0.96856271554443085, 7: 0.97072586133623395, 8: 0.97009644890564939, 9: 0.97048651368023087, 10: 0.9724833497367491, 11: 0.97233576405768929, 12: 0.97197560825755713, 13: 0.97496261600035194, 14: 0.97666896862834662, 15: 0.97588832487309629, 16: 0.97635531415748666, 17: 0.97712361347466847, 18: 0.9769240218659786, 19: 0.97908148470349443, 20: 0.97883537206931714}, 'KN': {2: 0.7260367097212781, 3: 0.94299138083733858, 4: 0.94668445388478883, 5: 0.95698236961103755, 6: 0.96856271554443085, 7: 0.96635714137118356, 8: 0.96194427499260593, 9: 0.97048651368023087, 10: 0.95785452877605037, 11: 0.96456327985739743, 12: 0.96904696076021946, 13: 0.97496261600035194, 14: 0.97446632545654044, 15: 0.97146655616561328, 16: 0.97272159322725427, 17: 0.97712361347466847, 18: 0.9744548860635095, 19: 0.9786465129766565, 20: 0.9756243628950052}, 'DT': {2: 0.53738953093133923, 3: 0.95294656888793805, 4: 0.96059575680169917, 5: 0.96591440844598897, 6: 0.96856271554443085, 7: 0.97072586133623395, 8: 0.97009644890564939, 9: 0.97048651368023087, 10: 0.9724833497367491, 11: 0.97233576405768929, 12: 0.97197560825755713, 13: 0.97496261600035194, 14: 0.97666896862834662, 15: 0.97588832487309629, 16: 0.97635531415748666, 17: 0.97712361347466847, 18: 0.9769240218659786, 19: 0.97908148470349443, 20: 0.97883537206931714}, 'RF': {2: 0.54457609012333685, 3: 0.95294656888793805, 4: 0.96059575680169917, 5: 0.96591440844598897, 6: 0.96856271554443085, 7: 0.97072586133623395, 8: 0.97009644890564939, 9: 0.97048651368023087, 10: 0.9724833497367491, 11: 0.97233576405768929, 12: 0.97197560825755713, 13: 0.97496261600035194, 14: 0.97666896862834662, 15: 0.97588832487309629, 16: 0.97635531415748666, 17: 0.97712361347466847, 18: 0.9769240218659786, 19: 0.97908148470349443, 20: 0.97883537206931714}}\n"
     ]
    }
   ],
   "source": [
    "max_kfold = 20\n",
    "for algo_name in algo_dict.keys():\n",
    "    print(algo_name)\n",
    "    train_score, test_score = train_test_evaluate_with_kFold(TrainingDATA,max_kfold+1,algo_dict[algo_name])\n",
    "    algo_train_scores[algo_name]=train_score\n",
    "    algo_test_scores[algo_name]=test_score\n",
    "    \n",
    "print(algo_train_scores)\n",
    "print(\"------------------------------------------------------------\")\n",
    "print(algo_test_scores)"
   ]
  },
  {
   "cell_type": "code",
   "execution_count": 115,
   "metadata": {
    "collapsed": true
   },
   "outputs": [],
   "source": [
    "test_scores_df=pd.DataFrame(algo_test_scores)\n",
    "train_scores_df=pd.DataFrame(algo_train_scores)"
   ]
  },
  {
   "cell_type": "code",
   "execution_count": 116,
   "metadata": {},
   "outputs": [
    {
     "data": {
      "image/png": "[encoded data removed]",
      "text/plain": [
       "<matplotlib.figure.Figure at 0x2899422ecf8>"
      ]
     },
     "metadata": {},
     "output_type": "display_data"
    }
   ],
   "source": [
    "train_scores_df.plot(figsize=(10,6))\n",
    "plt.grid()"
   ]
  },
  {
   "cell_type": "markdown",
   "metadata": {},
   "source": [
    "# As per the Graph plotted above, it can be seen that Random Forest is observed to be most consistent and value of K seems to be good choice to consider."
   ]
  },
  {
   "cell_type": "markdown",
   "metadata": {},
   "source": [
    "# Grid Search can also be used for further improvement of the algoithm paramaeters.\n",
    "# XGBoost Classifier can also be applied if needed."
   ]
  },
  {
   "cell_type": "code",
   "execution_count": null,
   "metadata": {
    "collapsed": true
   },
   "outputs": [],
   "source": []
  },
  {
   "cell_type": "code",
   "execution_count": null,
   "metadata": {
    "collapsed": true
   },
   "outputs": [],
   "source": []
  },
  {
   "cell_type": "markdown",
   "metadata": {},
   "source": [
    "# PREDICTION"
   ]
  },
  {
   "cell_type": "code",
   "execution_count": null,
   "metadata": {
    "collapsed": true
   },
   "outputs": [],
   "source": [
    "y_eval=LRC_M.predict(TestingDATA)\n",
    "# Predicts the Response for the data in TestingDATA"
   ]
  },
  {
   "cell_type": "code",
   "execution_count": null,
   "metadata": {
    "collapsed": true
   },
   "outputs": [],
   "source": [
    "pd.DataFrame(y_eval).to_csv('File_Name.csv')\n",
    "# Saves the Predcted Response as .csv file."
   ]
  },
  {
   "cell_type": "code",
   "execution_count": null,
   "metadata": {
    "collapsed": true
   },
   "outputs": [],
   "source": []
  },
  {
   "cell_type": "markdown",
   "metadata": {},
   "source": [
    "# CONCLUSION\n",
    "\n",
    "# In this assignment we have studied the impact of campaign, call duration, and month on the responses in order to reduces unnecesaary expenses.\n",
    "\n",
    "# The duration of call plays a significant role in convincing a client.\n",
    "# Contacting people on a cellphone in the later half of the year, gives better results.\n",
    "# A quick follow up to a call from previous campaign produces high probability of a positive result.\n",
    "\n",
    "# Similary other parameters can also be studied to further know how the response changes.\n",
    "# We have also built a model which can be used to for prediction."
   ]
  },
  {
   "cell_type": "code",
   "execution_count": null,
   "metadata": {
    "collapsed": true
   },
   "outputs": [],
   "source": []
  },
  {
   "cell_type": "code",
   "execution_count": null,
   "metadata": {
    "collapsed": true
   },
   "outputs": [],
   "source": []
  }
 ],
 "metadata": {
  "kernelspec": {
   "display_name": "Python 3",
   "language": "python",
   "name": "python3"
  },
  "language_info": {
   "codemirror_mode": {
    "name": "ipython",
    "version": 3
   },
   "file_extension": ".py",
   "mimetype": "text/x-python",
   "name": "python",
   "nbconvert_exporter": "python",
   "pygments_lexer": "ipython3",
   "version": "3.5.4"
  }
 },
 "nbformat": 4,
 "nbformat_minor": 2
}
